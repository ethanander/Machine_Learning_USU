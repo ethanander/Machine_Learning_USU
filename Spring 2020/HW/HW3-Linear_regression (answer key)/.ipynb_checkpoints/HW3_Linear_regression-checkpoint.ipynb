{
 "cells": [
  {
   "cell_type": "markdown",
   "metadata": {},
   "source": [
    "\n",
    "## HW3 (answer key)\n",
    "### [NYC property sales](https://www.kaggle.com/new-york-city/nyc-property-sales) : Linear Regression model \n",
    "\n",
    "Instructor: [Pedram Jahangiry](https://github.com/PJalgotrader) "
   ]
  },
  {
   "cell_type": "code",
   "execution_count": 1,
   "metadata": {},
   "outputs": [],
   "source": [
    "import numpy as np\n",
    "import pandas as pd\n",
    "import matplotlib.pyplot as plt\n",
    "import seaborn as sns\n",
    "from sklearn.linear_model import LinearRegression\n",
    "\n",
    "sns.set()  "
   ]
  },
  {
   "cell_type": "code",
   "execution_count": 2,
   "metadata": {},
   "outputs": [],
   "source": [
    "rand_state= 1000"
   ]
  },
  {
   "cell_type": "markdown",
   "metadata": {},
   "source": [
    "### Data Preprocessing"
   ]
  },
  {
   "cell_type": "code",
   "execution_count": 3,
   "metadata": {},
   "outputs": [
    {
     "data": {
      "text/html": [
       "<div>\n",
       "<style scoped>\n",
       "    .dataframe tbody tr th:only-of-type {\n",
       "        vertical-align: middle;\n",
       "    }\n",
       "\n",
       "    .dataframe tbody tr th {\n",
       "        vertical-align: top;\n",
       "    }\n",
       "\n",
       "    .dataframe thead th {\n",
       "        text-align: right;\n",
       "    }\n",
       "</style>\n",
       "<table border=\"1\" class=\"dataframe\">\n",
       "  <thead>\n",
       "    <tr style=\"text-align: right;\">\n",
       "      <th></th>\n",
       "      <th>BOROUGH</th>\n",
       "      <th>NEIGHBORHOOD</th>\n",
       "      <th>BUILDING CLASS CATEGORY</th>\n",
       "      <th>TAX CLASS AT PRESENT</th>\n",
       "      <th>BUILDING CLASS AT PRESENT</th>\n",
       "      <th>ZIP CODE</th>\n",
       "      <th>RESIDENTIAL UNITS</th>\n",
       "      <th>COMMERCIAL UNITS</th>\n",
       "      <th>TOTAL UNITS</th>\n",
       "      <th>LAND SQUARE FEET</th>\n",
       "      <th>GROSS SQUARE FEET</th>\n",
       "      <th>YEAR BUILT</th>\n",
       "      <th>TAX CLASS AT TIME OF SALE</th>\n",
       "      <th>BUILDING CLASS AT TIME OF SALE</th>\n",
       "      <th>SALE PRICE</th>\n",
       "      <th>SALE DATE</th>\n",
       "      <th>sale_year</th>\n",
       "      <th>sale_month</th>\n",
       "    </tr>\n",
       "  </thead>\n",
       "  <tbody>\n",
       "    <tr>\n",
       "      <th>0</th>\n",
       "      <td>Manhattan</td>\n",
       "      <td>ALPHABET CITY</td>\n",
       "      <td>07 RENTALS - WALKUP APARTMENTS</td>\n",
       "      <td>2B</td>\n",
       "      <td>C4</td>\n",
       "      <td>10009</td>\n",
       "      <td>10</td>\n",
       "      <td>0</td>\n",
       "      <td>10</td>\n",
       "      <td>2272.0</td>\n",
       "      <td>6794.0</td>\n",
       "      <td>1913</td>\n",
       "      <td>2</td>\n",
       "      <td>C4</td>\n",
       "      <td>3936272.0</td>\n",
       "      <td>2016-09-23</td>\n",
       "      <td>2016</td>\n",
       "      <td>9</td>\n",
       "    </tr>\n",
       "    <tr>\n",
       "      <th>1</th>\n",
       "      <td>Manhattan</td>\n",
       "      <td>ALPHABET CITY</td>\n",
       "      <td>07 RENTALS - WALKUP APARTMENTS</td>\n",
       "      <td>2B</td>\n",
       "      <td>C4</td>\n",
       "      <td>10009</td>\n",
       "      <td>8</td>\n",
       "      <td>0</td>\n",
       "      <td>8</td>\n",
       "      <td>1750.0</td>\n",
       "      <td>4226.0</td>\n",
       "      <td>1920</td>\n",
       "      <td>2</td>\n",
       "      <td>C4</td>\n",
       "      <td>3192840.0</td>\n",
       "      <td>2016-09-23</td>\n",
       "      <td>2016</td>\n",
       "      <td>9</td>\n",
       "    </tr>\n",
       "    <tr>\n",
       "      <th>2</th>\n",
       "      <td>Manhattan</td>\n",
       "      <td>ALPHABET CITY</td>\n",
       "      <td>14 RENTALS - 4-10 UNIT</td>\n",
       "      <td>2A</td>\n",
       "      <td>S3</td>\n",
       "      <td>10009</td>\n",
       "      <td>3</td>\n",
       "      <td>1</td>\n",
       "      <td>4</td>\n",
       "      <td>1520.0</td>\n",
       "      <td>3360.0</td>\n",
       "      <td>1910</td>\n",
       "      <td>2</td>\n",
       "      <td>S3</td>\n",
       "      <td>3300000.0</td>\n",
       "      <td>2016-11-15</td>\n",
       "      <td>2016</td>\n",
       "      <td>11</td>\n",
       "    </tr>\n",
       "    <tr>\n",
       "      <th>3</th>\n",
       "      <td>Manhattan</td>\n",
       "      <td>ALPHABET CITY</td>\n",
       "      <td>22 STORE BUILDINGS</td>\n",
       "      <td>4</td>\n",
       "      <td>K4</td>\n",
       "      <td>10009</td>\n",
       "      <td>0</td>\n",
       "      <td>1</td>\n",
       "      <td>1</td>\n",
       "      <td>1218.0</td>\n",
       "      <td>3586.0</td>\n",
       "      <td>1899</td>\n",
       "      <td>4</td>\n",
       "      <td>K4</td>\n",
       "      <td>3700000.0</td>\n",
       "      <td>2016-09-28</td>\n",
       "      <td>2016</td>\n",
       "      <td>9</td>\n",
       "    </tr>\n",
       "    <tr>\n",
       "      <th>4</th>\n",
       "      <td>Manhattan</td>\n",
       "      <td>CHELSEA</td>\n",
       "      <td>07 RENTALS - WALKUP APARTMENTS</td>\n",
       "      <td>2B</td>\n",
       "      <td>C4</td>\n",
       "      <td>10011</td>\n",
       "      <td>9</td>\n",
       "      <td>0</td>\n",
       "      <td>9</td>\n",
       "      <td>1566.0</td>\n",
       "      <td>6330.0</td>\n",
       "      <td>1901</td>\n",
       "      <td>2</td>\n",
       "      <td>C4</td>\n",
       "      <td>1583840.0</td>\n",
       "      <td>2017-08-31</td>\n",
       "      <td>2017</td>\n",
       "      <td>8</td>\n",
       "    </tr>\n",
       "  </tbody>\n",
       "</table>\n",
       "</div>"
      ],
      "text/plain": [
       "     BOROUGH   NEIGHBORHOOD                      BUILDING CLASS CATEGORY  \\\n",
       "0  Manhattan  ALPHABET CITY  07 RENTALS - WALKUP APARTMENTS                \n",
       "1  Manhattan  ALPHABET CITY  07 RENTALS - WALKUP APARTMENTS                \n",
       "2  Manhattan  ALPHABET CITY  14 RENTALS - 4-10 UNIT                        \n",
       "3  Manhattan  ALPHABET CITY  22 STORE BUILDINGS                            \n",
       "4  Manhattan        CHELSEA  07 RENTALS - WALKUP APARTMENTS                \n",
       "\n",
       "  TAX CLASS AT PRESENT BUILDING CLASS AT PRESENT  ZIP CODE  RESIDENTIAL UNITS  \\\n",
       "0                   2B                        C4     10009                 10   \n",
       "1                   2B                        C4     10009                  8   \n",
       "2                   2A                        S3     10009                  3   \n",
       "3                    4                        K4     10009                  0   \n",
       "4                   2B                        C4     10011                  9   \n",
       "\n",
       "   COMMERCIAL UNITS  TOTAL UNITS  LAND SQUARE FEET  GROSS SQUARE FEET  \\\n",
       "0                 0           10            2272.0             6794.0   \n",
       "1                 0            8            1750.0             4226.0   \n",
       "2                 1            4            1520.0             3360.0   \n",
       "3                 1            1            1218.0             3586.0   \n",
       "4                 0            9            1566.0             6330.0   \n",
       "\n",
       "   YEAR BUILT  TAX CLASS AT TIME OF SALE BUILDING CLASS AT TIME OF SALE  \\\n",
       "0        1913                          2                             C4   \n",
       "1        1920                          2                             C4   \n",
       "2        1910                          2                             S3   \n",
       "3        1899                          4                             K4   \n",
       "4        1901                          2                             C4   \n",
       "\n",
       "   SALE PRICE   SALE DATE  sale_year  sale_month  \n",
       "0   3936272.0  2016-09-23       2016           9  \n",
       "1   3192840.0  2016-09-23       2016           9  \n",
       "2   3300000.0  2016-11-15       2016          11  \n",
       "3   3700000.0  2016-09-28       2016           9  \n",
       "4   1583840.0  2017-08-31       2017           8  "
      ]
     },
     "execution_count": 3,
     "metadata": {},
     "output_type": "execute_result"
    }
   ],
   "source": [
    "df = pd.read_csv(\"nyc-rolling-sales_clean.csv\")\n",
    "df.head()"
   ]
  },
  {
   "cell_type": "code",
   "execution_count": 4,
   "metadata": {},
   "outputs": [],
   "source": [
    "# constructing the numerical variables:\n",
    "numeric = [\"RESIDENTIAL UNITS\",\"COMMERCIAL UNITS\",\"TOTAL UNITS\", \"LAND SQUARE FEET\" , \"GROSS SQUARE FEET\",\"SALE PRICE\" ]\n",
    "\n",
    "for col in numeric: \n",
    "    df[col] = pd.to_numeric(df[col], errors='coerce') # coercing errors to NAs"
   ]
  },
  {
   "cell_type": "code",
   "execution_count": 5,
   "metadata": {},
   "outputs": [],
   "source": [
    "# constructing the categorical variables:\n",
    "categorical = [\"BOROUGH\",\"NEIGHBORHOOD\",'BUILDING CLASS CATEGORY', 'TAX CLASS AT PRESENT', 'BUILDING CLASS AT PRESENT','ZIP CODE', 'YEAR BUILT', 'BUILDING CLASS AT TIME OF SALE', 'TAX CLASS AT TIME OF SALE', 'sale_month']\n",
    "\n",
    "for col in categorical: \n",
    "    df[col] = df[col].astype(\"category\")"
   ]
  },
  {
   "cell_type": "code",
   "execution_count": 6,
   "metadata": {},
   "outputs": [
    {
     "data": {
      "text/plain": [
       "['BOROUGH',\n",
       " 'NEIGHBORHOOD',\n",
       " 'BUILDING CLASS CATEGORY',\n",
       " 'TAX CLASS AT PRESENT',\n",
       " 'BUILDING CLASS AT PRESENT',\n",
       " 'ZIP CODE',\n",
       " 'RESIDENTIAL UNITS',\n",
       " 'COMMERCIAL UNITS',\n",
       " 'TOTAL UNITS',\n",
       " 'LAND SQUARE FEET',\n",
       " 'GROSS SQUARE FEET',\n",
       " 'YEAR BUILT',\n",
       " 'TAX CLASS AT TIME OF SALE',\n",
       " 'BUILDING CLASS AT TIME OF SALE',\n",
       " 'SALE PRICE',\n",
       " 'SALE DATE',\n",
       " 'sale_year',\n",
       " 'sale_month']"
      ]
     },
     "execution_count": 6,
     "metadata": {},
     "output_type": "execute_result"
    }
   ],
   "source": [
    "list(df.columns)"
   ]
  },
  {
   "cell_type": "code",
   "execution_count": 7,
   "metadata": {},
   "outputs": [],
   "source": [
    "# Let's drop the variables that we don't use in our linear regression model\n",
    "\n",
    "df = df.drop(['sale_year','SALE DATE','TOTAL UNITS'], axis=1)"
   ]
  },
  {
   "cell_type": "code",
   "execution_count": 8,
   "metadata": {},
   "outputs": [
    {
     "name": "stdout",
     "output_type": "stream",
     "text": [
      "<class 'pandas.core.frame.DataFrame'>\n",
      "RangeIndex: 30236 entries, 0 to 30235\n",
      "Data columns (total 15 columns):\n",
      "BOROUGH                           30236 non-null category\n",
      "NEIGHBORHOOD                      30236 non-null category\n",
      "BUILDING CLASS CATEGORY           30236 non-null category\n",
      "TAX CLASS AT PRESENT              30236 non-null category\n",
      "BUILDING CLASS AT PRESENT         30236 non-null category\n",
      "ZIP CODE                          30236 non-null category\n",
      "RESIDENTIAL UNITS                 30236 non-null int64\n",
      "COMMERCIAL UNITS                  30236 non-null int64\n",
      "LAND SQUARE FEET                  30236 non-null float64\n",
      "GROSS SQUARE FEET                 30236 non-null float64\n",
      "YEAR BUILT                        30236 non-null category\n",
      "TAX CLASS AT TIME OF SALE         30236 non-null category\n",
      "BUILDING CLASS AT TIME OF SALE    30236 non-null category\n",
      "SALE PRICE                        30236 non-null float64\n",
      "sale_month                        30236 non-null category\n",
      "dtypes: category(10), float64(3), int64(2)\n",
      "memory usage: 1.6 MB\n"
     ]
    }
   ],
   "source": [
    "df.info()"
   ]
  },
  {
   "cell_type": "code",
   "execution_count": 9,
   "metadata": {},
   "outputs": [
    {
     "data": {
      "text/html": [
       "<div>\n",
       "<style scoped>\n",
       "    .dataframe tbody tr th:only-of-type {\n",
       "        vertical-align: middle;\n",
       "    }\n",
       "\n",
       "    .dataframe tbody tr th {\n",
       "        vertical-align: top;\n",
       "    }\n",
       "\n",
       "    .dataframe thead th {\n",
       "        text-align: right;\n",
       "    }\n",
       "</style>\n",
       "<table border=\"1\" class=\"dataframe\">\n",
       "  <thead>\n",
       "    <tr style=\"text-align: right;\">\n",
       "      <th></th>\n",
       "      <th>count</th>\n",
       "      <th>unique</th>\n",
       "      <th>top</th>\n",
       "      <th>freq</th>\n",
       "      <th>mean</th>\n",
       "      <th>std</th>\n",
       "      <th>min</th>\n",
       "      <th>25%</th>\n",
       "      <th>50%</th>\n",
       "      <th>75%</th>\n",
       "      <th>max</th>\n",
       "    </tr>\n",
       "  </thead>\n",
       "  <tbody>\n",
       "    <tr>\n",
       "      <th>BOROUGH</th>\n",
       "      <td>30236</td>\n",
       "      <td>5</td>\n",
       "      <td>Brooklyn</td>\n",
       "      <td>11042</td>\n",
       "      <td>NaN</td>\n",
       "      <td>NaN</td>\n",
       "      <td>NaN</td>\n",
       "      <td>NaN</td>\n",
       "      <td>NaN</td>\n",
       "      <td>NaN</td>\n",
       "      <td>NaN</td>\n",
       "    </tr>\n",
       "    <tr>\n",
       "      <th>NEIGHBORHOOD</th>\n",
       "      <td>30236</td>\n",
       "      <td>242</td>\n",
       "      <td>FLUSHING-NORTH</td>\n",
       "      <td>759</td>\n",
       "      <td>NaN</td>\n",
       "      <td>NaN</td>\n",
       "      <td>NaN</td>\n",
       "      <td>NaN</td>\n",
       "      <td>NaN</td>\n",
       "      <td>NaN</td>\n",
       "      <td>NaN</td>\n",
       "    </tr>\n",
       "    <tr>\n",
       "      <th>BUILDING CLASS CATEGORY</th>\n",
       "      <td>30236</td>\n",
       "      <td>38</td>\n",
       "      <td>01 ONE FAMILY DWELLINGS</td>\n",
       "      <td>12473</td>\n",
       "      <td>NaN</td>\n",
       "      <td>NaN</td>\n",
       "      <td>NaN</td>\n",
       "      <td>NaN</td>\n",
       "      <td>NaN</td>\n",
       "      <td>NaN</td>\n",
       "      <td>NaN</td>\n",
       "    </tr>\n",
       "    <tr>\n",
       "      <th>TAX CLASS AT PRESENT</th>\n",
       "      <td>30236</td>\n",
       "      <td>9</td>\n",
       "      <td>1</td>\n",
       "      <td>24441</td>\n",
       "      <td>NaN</td>\n",
       "      <td>NaN</td>\n",
       "      <td>NaN</td>\n",
       "      <td>NaN</td>\n",
       "      <td>NaN</td>\n",
       "      <td>NaN</td>\n",
       "      <td>NaN</td>\n",
       "    </tr>\n",
       "    <tr>\n",
       "      <th>BUILDING CLASS AT PRESENT</th>\n",
       "      <td>30236</td>\n",
       "      <td>115</td>\n",
       "      <td>A1</td>\n",
       "      <td>4692</td>\n",
       "      <td>NaN</td>\n",
       "      <td>NaN</td>\n",
       "      <td>NaN</td>\n",
       "      <td>NaN</td>\n",
       "      <td>NaN</td>\n",
       "      <td>NaN</td>\n",
       "      <td>NaN</td>\n",
       "    </tr>\n",
       "    <tr>\n",
       "      <th>ZIP CODE</th>\n",
       "      <td>30236</td>\n",
       "      <td>171</td>\n",
       "      <td>10314</td>\n",
       "      <td>835</td>\n",
       "      <td>NaN</td>\n",
       "      <td>NaN</td>\n",
       "      <td>NaN</td>\n",
       "      <td>NaN</td>\n",
       "      <td>NaN</td>\n",
       "      <td>NaN</td>\n",
       "      <td>NaN</td>\n",
       "    </tr>\n",
       "    <tr>\n",
       "      <th>RESIDENTIAL UNITS</th>\n",
       "      <td>30236</td>\n",
       "      <td>NaN</td>\n",
       "      <td>NaN</td>\n",
       "      <td>NaN</td>\n",
       "      <td>1.97053</td>\n",
       "      <td>12.587</td>\n",
       "      <td>0</td>\n",
       "      <td>1</td>\n",
       "      <td>1</td>\n",
       "      <td>2</td>\n",
       "      <td>1844</td>\n",
       "    </tr>\n",
       "    <tr>\n",
       "      <th>COMMERCIAL UNITS</th>\n",
       "      <td>30236</td>\n",
       "      <td>NaN</td>\n",
       "      <td>NaN</td>\n",
       "      <td>NaN</td>\n",
       "      <td>0.173039</td>\n",
       "      <td>13.0346</td>\n",
       "      <td>0</td>\n",
       "      <td>0</td>\n",
       "      <td>0</td>\n",
       "      <td>0</td>\n",
       "      <td>2261</td>\n",
       "    </tr>\n",
       "    <tr>\n",
       "      <th>LAND SQUARE FEET</th>\n",
       "      <td>30236</td>\n",
       "      <td>NaN</td>\n",
       "      <td>NaN</td>\n",
       "      <td>NaN</td>\n",
       "      <td>3133.58</td>\n",
       "      <td>27966.3</td>\n",
       "      <td>0</td>\n",
       "      <td>1816.5</td>\n",
       "      <td>2417</td>\n",
       "      <td>3500</td>\n",
       "      <td>4.2283e+06</td>\n",
       "    </tr>\n",
       "    <tr>\n",
       "      <th>GROSS SQUARE FEET</th>\n",
       "      <td>30236</td>\n",
       "      <td>NaN</td>\n",
       "      <td>NaN</td>\n",
       "      <td>NaN</td>\n",
       "      <td>2440.36</td>\n",
       "      <td>23800.2</td>\n",
       "      <td>0</td>\n",
       "      <td>1208</td>\n",
       "      <td>1680</td>\n",
       "      <td>2392</td>\n",
       "      <td>3.75056e+06</td>\n",
       "    </tr>\n",
       "    <tr>\n",
       "      <th>YEAR BUILT</th>\n",
       "      <td>30236</td>\n",
       "      <td>137</td>\n",
       "      <td>1920</td>\n",
       "      <td>3267</td>\n",
       "      <td>NaN</td>\n",
       "      <td>NaN</td>\n",
       "      <td>NaN</td>\n",
       "      <td>NaN</td>\n",
       "      <td>NaN</td>\n",
       "      <td>NaN</td>\n",
       "      <td>NaN</td>\n",
       "    </tr>\n",
       "    <tr>\n",
       "      <th>TAX CLASS AT TIME OF SALE</th>\n",
       "      <td>30236</td>\n",
       "      <td>3</td>\n",
       "      <td>1</td>\n",
       "      <td>24824</td>\n",
       "      <td>NaN</td>\n",
       "      <td>NaN</td>\n",
       "      <td>NaN</td>\n",
       "      <td>NaN</td>\n",
       "      <td>NaN</td>\n",
       "      <td>NaN</td>\n",
       "      <td>NaN</td>\n",
       "    </tr>\n",
       "    <tr>\n",
       "      <th>BUILDING CLASS AT TIME OF SALE</th>\n",
       "      <td>30236</td>\n",
       "      <td>115</td>\n",
       "      <td>A1</td>\n",
       "      <td>4687</td>\n",
       "      <td>NaN</td>\n",
       "      <td>NaN</td>\n",
       "      <td>NaN</td>\n",
       "      <td>NaN</td>\n",
       "      <td>NaN</td>\n",
       "      <td>NaN</td>\n",
       "      <td>NaN</td>\n",
       "    </tr>\n",
       "    <tr>\n",
       "      <th>SALE PRICE</th>\n",
       "      <td>30236</td>\n",
       "      <td>NaN</td>\n",
       "      <td>NaN</td>\n",
       "      <td>NaN</td>\n",
       "      <td>793820</td>\n",
       "      <td>594725</td>\n",
       "      <td>10001</td>\n",
       "      <td>436000</td>\n",
       "      <td>630000</td>\n",
       "      <td>940000</td>\n",
       "      <td>3.995e+06</td>\n",
       "    </tr>\n",
       "    <tr>\n",
       "      <th>sale_month</th>\n",
       "      <td>30236</td>\n",
       "      <td>12</td>\n",
       "      <td>6</td>\n",
       "      <td>2931</td>\n",
       "      <td>NaN</td>\n",
       "      <td>NaN</td>\n",
       "      <td>NaN</td>\n",
       "      <td>NaN</td>\n",
       "      <td>NaN</td>\n",
       "      <td>NaN</td>\n",
       "      <td>NaN</td>\n",
       "    </tr>\n",
       "  </tbody>\n",
       "</table>\n",
       "</div>"
      ],
      "text/plain": [
       "                                count unique  \\\n",
       "BOROUGH                         30236      5   \n",
       "NEIGHBORHOOD                    30236    242   \n",
       "BUILDING CLASS CATEGORY         30236     38   \n",
       "TAX CLASS AT PRESENT            30236      9   \n",
       "BUILDING CLASS AT PRESENT       30236    115   \n",
       "ZIP CODE                        30236    171   \n",
       "RESIDENTIAL UNITS               30236    NaN   \n",
       "COMMERCIAL UNITS                30236    NaN   \n",
       "LAND SQUARE FEET                30236    NaN   \n",
       "GROSS SQUARE FEET               30236    NaN   \n",
       "YEAR BUILT                      30236    137   \n",
       "TAX CLASS AT TIME OF SALE       30236      3   \n",
       "BUILDING CLASS AT TIME OF SALE  30236    115   \n",
       "SALE PRICE                      30236    NaN   \n",
       "sale_month                      30236     12   \n",
       "\n",
       "                                                                        top  \\\n",
       "BOROUGH                                                            Brooklyn   \n",
       "NEIGHBORHOOD                                                 FLUSHING-NORTH   \n",
       "BUILDING CLASS CATEGORY         01 ONE FAMILY DWELLINGS                       \n",
       "TAX CLASS AT PRESENT                                                      1   \n",
       "BUILDING CLASS AT PRESENT                                                A1   \n",
       "ZIP CODE                                                              10314   \n",
       "RESIDENTIAL UNITS                                                       NaN   \n",
       "COMMERCIAL UNITS                                                        NaN   \n",
       "LAND SQUARE FEET                                                        NaN   \n",
       "GROSS SQUARE FEET                                                       NaN   \n",
       "YEAR BUILT                                                             1920   \n",
       "TAX CLASS AT TIME OF SALE                                                 1   \n",
       "BUILDING CLASS AT TIME OF SALE                                           A1   \n",
       "SALE PRICE                                                              NaN   \n",
       "sale_month                                                                6   \n",
       "\n",
       "                                 freq      mean      std    min     25%  \\\n",
       "BOROUGH                         11042       NaN      NaN    NaN     NaN   \n",
       "NEIGHBORHOOD                      759       NaN      NaN    NaN     NaN   \n",
       "BUILDING CLASS CATEGORY         12473       NaN      NaN    NaN     NaN   \n",
       "TAX CLASS AT PRESENT            24441       NaN      NaN    NaN     NaN   \n",
       "BUILDING CLASS AT PRESENT        4692       NaN      NaN    NaN     NaN   \n",
       "ZIP CODE                          835       NaN      NaN    NaN     NaN   \n",
       "RESIDENTIAL UNITS                 NaN   1.97053   12.587      0       1   \n",
       "COMMERCIAL UNITS                  NaN  0.173039  13.0346      0       0   \n",
       "LAND SQUARE FEET                  NaN   3133.58  27966.3      0  1816.5   \n",
       "GROSS SQUARE FEET                 NaN   2440.36  23800.2      0    1208   \n",
       "YEAR BUILT                       3267       NaN      NaN    NaN     NaN   \n",
       "TAX CLASS AT TIME OF SALE       24824       NaN      NaN    NaN     NaN   \n",
       "BUILDING CLASS AT TIME OF SALE   4687       NaN      NaN    NaN     NaN   \n",
       "SALE PRICE                        NaN    793820   594725  10001  436000   \n",
       "sale_month                       2931       NaN      NaN    NaN     NaN   \n",
       "\n",
       "                                   50%     75%          max  \n",
       "BOROUGH                            NaN     NaN          NaN  \n",
       "NEIGHBORHOOD                       NaN     NaN          NaN  \n",
       "BUILDING CLASS CATEGORY            NaN     NaN          NaN  \n",
       "TAX CLASS AT PRESENT               NaN     NaN          NaN  \n",
       "BUILDING CLASS AT PRESENT          NaN     NaN          NaN  \n",
       "ZIP CODE                           NaN     NaN          NaN  \n",
       "RESIDENTIAL UNITS                    1       2         1844  \n",
       "COMMERCIAL UNITS                     0       0         2261  \n",
       "LAND SQUARE FEET                  2417    3500   4.2283e+06  \n",
       "GROSS SQUARE FEET                 1680    2392  3.75056e+06  \n",
       "YEAR BUILT                         NaN     NaN          NaN  \n",
       "TAX CLASS AT TIME OF SALE          NaN     NaN          NaN  \n",
       "BUILDING CLASS AT TIME OF SALE     NaN     NaN          NaN  \n",
       "SALE PRICE                      630000  940000    3.995e+06  \n",
       "sale_month                         NaN     NaN          NaN  "
      ]
     },
     "execution_count": 9,
     "metadata": {},
     "output_type": "execute_result"
    }
   ],
   "source": [
    "df.describe(include='all').T"
   ]
  },
  {
   "cell_type": "code",
   "execution_count": 10,
   "metadata": {},
   "outputs": [
    {
     "data": {
      "text/plain": [
       "BOROUGH                           0.0\n",
       "NEIGHBORHOOD                      0.0\n",
       "BUILDING CLASS CATEGORY           0.0\n",
       "TAX CLASS AT PRESENT              0.0\n",
       "BUILDING CLASS AT PRESENT         0.0\n",
       "ZIP CODE                          0.0\n",
       "RESIDENTIAL UNITS                 0.0\n",
       "COMMERCIAL UNITS                  0.0\n",
       "LAND SQUARE FEET                  0.0\n",
       "GROSS SQUARE FEET                 0.0\n",
       "YEAR BUILT                        0.0\n",
       "TAX CLASS AT TIME OF SALE         0.0\n",
       "BUILDING CLASS AT TIME OF SALE    0.0\n",
       "SALE PRICE                        0.0\n",
       "sale_month                        0.0\n",
       "dtype: float64"
      ]
     },
     "execution_count": 10,
     "metadata": {},
     "output_type": "execute_result"
    }
   ],
   "source": [
    "df.isnull().sum() / len(df)\n",
    "# Alternatively we could use isnull() from pandas. \n",
    "# pd.isnull(df).sum() "
   ]
  },
  {
   "cell_type": "markdown",
   "metadata": {},
   "source": [
    "### Plotting the NA values"
   ]
  },
  {
   "cell_type": "code",
   "execution_count": 11,
   "metadata": {},
   "outputs": [
    {
     "data": {
      "text/plain": [
       "<matplotlib.axes._subplots.AxesSubplot at 0x169afeb8470>"
      ]
     },
     "execution_count": 11,
     "metadata": {},
     "output_type": "execute_result"
    },
    {
     "data": {
      "image/png": "[encoded data removed]",
      "text/plain": [
       "<Figure size 720x504 with 1 Axes>"
      ]
     },
     "metadata": {
      "needs_background": "light"
     },
     "output_type": "display_data"
    }
   ],
   "source": [
    "plt.figure(figsize=(10,7))\n",
    "sns.heatmap(df.isnull(),yticklabels=False,cbar=False,cmap='viridis')"
   ]
  },
  {
   "cell_type": "markdown",
   "metadata": {},
   "source": [
    "### Data visualization"
   ]
  },
  {
   "cell_type": "code",
   "execution_count": 12,
   "metadata": {},
   "outputs": [
    {
     "data": {
      "image/png": "[encoded data removed]",
      "text/plain": [
       "<Figure size 864x360 with 1 Axes>"
      ]
     },
     "metadata": {
      "needs_background": "light"
     },
     "output_type": "display_data"
    }
   ],
   "source": [
    "plt.figure(figsize=(12,5))\n",
    "sns.distplot(df['SALE PRICE'], bins=30 , rug=True)\n",
    "plt.show()"
   ]
  },
  {
   "cell_type": "code",
   "execution_count": 13,
   "metadata": {},
   "outputs": [
    {
     "data": {
      "image/png": "[encoded data removed]",
      "text/plain": [
       "<Figure size 864x360 with 1 Axes>"
      ]
     },
     "metadata": {
      "needs_background": "light"
     },
     "output_type": "display_data"
    }
   ],
   "source": [
    "# Need to do log transformation to avoid potential heteroskedasticity\n",
    "plt.figure(figsize=(12,5))\n",
    "df['lsales']= np.log(df['SALE PRICE'])\n",
    "sns.distplot(df['lsales'], bins=30 , rug=True)\n",
    "plt.show()"
   ]
  },
  {
   "cell_type": "markdown",
   "metadata": {},
   "source": [
    "### Dealing with dummy variables"
   ]
  },
  {
   "cell_type": "code",
   "execution_count": 14,
   "metadata": {},
   "outputs": [
    {
     "data": {
      "text/plain": [
       "(30236, 843)"
      ]
     },
     "execution_count": 14,
     "metadata": {},
     "output_type": "execute_result"
    }
   ],
   "source": [
    "df2 = pd.get_dummies(df, drop_first=True)\n",
    "df2.shape\n",
    "# Look at that, we have 843 features!! "
   ]
  },
  {
   "cell_type": "code",
   "execution_count": 15,
   "metadata": {},
   "outputs": [],
   "source": [
    "#list(df2.columns)"
   ]
  },
  {
   "cell_type": "markdown",
   "metadata": {},
   "source": [
    "### Defining the variables and splitting the data"
   ]
  },
  {
   "cell_type": "code",
   "execution_count": 16,
   "metadata": {},
   "outputs": [],
   "source": [
    "y = df2['lsales']\n",
    "X = df2.drop(['lsales','SALE PRICE'], axis=1) # becareful inplace= False\n",
    "\n",
    "from sklearn.model_selection import train_test_split\n",
    "X_train, X_test, y_train, y_test = train_test_split(X, y, test_size=0.2, random_state=rand_state)"
   ]
  },
  {
   "cell_type": "code",
   "execution_count": 17,
   "metadata": {},
   "outputs": [
    {
     "data": {
      "text/html": [
       "<div>\n",
       "<style scoped>\n",
       "    .dataframe tbody tr th:only-of-type {\n",
       "        vertical-align: middle;\n",
       "    }\n",
       "\n",
       "    .dataframe tbody tr th {\n",
       "        vertical-align: top;\n",
       "    }\n",
       "\n",
       "    .dataframe thead th {\n",
       "        text-align: right;\n",
       "    }\n",
       "</style>\n",
       "<table border=\"1\" class=\"dataframe\">\n",
       "  <thead>\n",
       "    <tr style=\"text-align: right;\">\n",
       "      <th></th>\n",
       "      <th>RESIDENTIAL UNITS</th>\n",
       "      <th>COMMERCIAL UNITS</th>\n",
       "      <th>LAND SQUARE FEET</th>\n",
       "      <th>GROSS SQUARE FEET</th>\n",
       "      <th>BOROUGH_Brooklyn</th>\n",
       "      <th>BOROUGH_Manhattan</th>\n",
       "      <th>BOROUGH_Queens</th>\n",
       "      <th>BOROUGH_Staten Island</th>\n",
       "      <th>NEIGHBORHOOD_ALPHABET CITY</th>\n",
       "      <th>NEIGHBORHOOD_ANNADALE</th>\n",
       "      <th>...</th>\n",
       "      <th>sale_month_3</th>\n",
       "      <th>sale_month_4</th>\n",
       "      <th>sale_month_5</th>\n",
       "      <th>sale_month_6</th>\n",
       "      <th>sale_month_7</th>\n",
       "      <th>sale_month_8</th>\n",
       "      <th>sale_month_9</th>\n",
       "      <th>sale_month_10</th>\n",
       "      <th>sale_month_11</th>\n",
       "      <th>sale_month_12</th>\n",
       "    </tr>\n",
       "  </thead>\n",
       "  <tbody>\n",
       "    <tr>\n",
       "      <th>15308</th>\n",
       "      <td>1</td>\n",
       "      <td>1</td>\n",
       "      <td>2500.0</td>\n",
       "      <td>1024.0</td>\n",
       "      <td>0</td>\n",
       "      <td>0</td>\n",
       "      <td>1</td>\n",
       "      <td>0</td>\n",
       "      <td>0</td>\n",
       "      <td>0</td>\n",
       "      <td>...</td>\n",
       "      <td>1</td>\n",
       "      <td>0</td>\n",
       "      <td>0</td>\n",
       "      <td>0</td>\n",
       "      <td>0</td>\n",
       "      <td>0</td>\n",
       "      <td>0</td>\n",
       "      <td>0</td>\n",
       "      <td>0</td>\n",
       "      <td>0</td>\n",
       "    </tr>\n",
       "    <tr>\n",
       "      <th>30014</th>\n",
       "      <td>2</td>\n",
       "      <td>0</td>\n",
       "      <td>4800.0</td>\n",
       "      <td>2268.0</td>\n",
       "      <td>0</td>\n",
       "      <td>0</td>\n",
       "      <td>0</td>\n",
       "      <td>1</td>\n",
       "      <td>0</td>\n",
       "      <td>0</td>\n",
       "      <td>...</td>\n",
       "      <td>0</td>\n",
       "      <td>0</td>\n",
       "      <td>0</td>\n",
       "      <td>0</td>\n",
       "      <td>0</td>\n",
       "      <td>0</td>\n",
       "      <td>0</td>\n",
       "      <td>0</td>\n",
       "      <td>1</td>\n",
       "      <td>0</td>\n",
       "    </tr>\n",
       "    <tr>\n",
       "      <th>22437</th>\n",
       "      <td>3</td>\n",
       "      <td>0</td>\n",
       "      <td>4000.0</td>\n",
       "      <td>2075.0</td>\n",
       "      <td>0</td>\n",
       "      <td>0</td>\n",
       "      <td>1</td>\n",
       "      <td>0</td>\n",
       "      <td>0</td>\n",
       "      <td>0</td>\n",
       "      <td>...</td>\n",
       "      <td>0</td>\n",
       "      <td>0</td>\n",
       "      <td>0</td>\n",
       "      <td>0</td>\n",
       "      <td>0</td>\n",
       "      <td>0</td>\n",
       "      <td>0</td>\n",
       "      <td>0</td>\n",
       "      <td>0</td>\n",
       "      <td>0</td>\n",
       "    </tr>\n",
       "    <tr>\n",
       "      <th>14045</th>\n",
       "      <td>2</td>\n",
       "      <td>0</td>\n",
       "      <td>1310.0</td>\n",
       "      <td>1500.0</td>\n",
       "      <td>1</td>\n",
       "      <td>0</td>\n",
       "      <td>0</td>\n",
       "      <td>0</td>\n",
       "      <td>0</td>\n",
       "      <td>0</td>\n",
       "      <td>...</td>\n",
       "      <td>0</td>\n",
       "      <td>0</td>\n",
       "      <td>0</td>\n",
       "      <td>0</td>\n",
       "      <td>0</td>\n",
       "      <td>0</td>\n",
       "      <td>0</td>\n",
       "      <td>0</td>\n",
       "      <td>0</td>\n",
       "      <td>1</td>\n",
       "    </tr>\n",
       "    <tr>\n",
       "      <th>29096</th>\n",
       "      <td>1</td>\n",
       "      <td>0</td>\n",
       "      <td>2821.0</td>\n",
       "      <td>920.0</td>\n",
       "      <td>0</td>\n",
       "      <td>0</td>\n",
       "      <td>0</td>\n",
       "      <td>1</td>\n",
       "      <td>0</td>\n",
       "      <td>0</td>\n",
       "      <td>...</td>\n",
       "      <td>0</td>\n",
       "      <td>0</td>\n",
       "      <td>0</td>\n",
       "      <td>0</td>\n",
       "      <td>0</td>\n",
       "      <td>0</td>\n",
       "      <td>1</td>\n",
       "      <td>0</td>\n",
       "      <td>0</td>\n",
       "      <td>0</td>\n",
       "    </tr>\n",
       "  </tbody>\n",
       "</table>\n",
       "<p>5 rows × 841 columns</p>\n",
       "</div>"
      ],
      "text/plain": [
       "       RESIDENTIAL UNITS  COMMERCIAL UNITS  LAND SQUARE FEET  \\\n",
       "15308                  1                 1            2500.0   \n",
       "30014                  2                 0            4800.0   \n",
       "22437                  3                 0            4000.0   \n",
       "14045                  2                 0            1310.0   \n",
       "29096                  1                 0            2821.0   \n",
       "\n",
       "       GROSS SQUARE FEET  BOROUGH_Brooklyn  BOROUGH_Manhattan  BOROUGH_Queens  \\\n",
       "15308             1024.0                 0                  0               1   \n",
       "30014             2268.0                 0                  0               0   \n",
       "22437             2075.0                 0                  0               1   \n",
       "14045             1500.0                 1                  0               0   \n",
       "29096              920.0                 0                  0               0   \n",
       "\n",
       "       BOROUGH_Staten Island  NEIGHBORHOOD_ALPHABET CITY  \\\n",
       "15308                      0                           0   \n",
       "30014                      1                           0   \n",
       "22437                      0                           0   \n",
       "14045                      0                           0   \n",
       "29096                      1                           0   \n",
       "\n",
       "       NEIGHBORHOOD_ANNADALE  ...  sale_month_3  sale_month_4  sale_month_5  \\\n",
       "15308                      0  ...             1             0             0   \n",
       "30014                      0  ...             0             0             0   \n",
       "22437                      0  ...             0             0             0   \n",
       "14045                      0  ...             0             0             0   \n",
       "29096                      0  ...             0             0             0   \n",
       "\n",
       "       sale_month_6  sale_month_7  sale_month_8  sale_month_9  sale_month_10  \\\n",
       "15308             0             0             0             0              0   \n",
       "30014             0             0             0             0              0   \n",
       "22437             0             0             0             0              0   \n",
       "14045             0             0             0             0              0   \n",
       "29096             0             0             0             1              0   \n",
       "\n",
       "       sale_month_11  sale_month_12  \n",
       "15308              0              0  \n",
       "30014              1              0  \n",
       "22437              0              0  \n",
       "14045              0              1  \n",
       "29096              0              0  \n",
       "\n",
       "[5 rows x 841 columns]"
      ]
     },
     "execution_count": 17,
     "metadata": {},
     "output_type": "execute_result"
    }
   ],
   "source": [
    "X_train.head()"
   ]
  },
  {
   "cell_type": "markdown",
   "metadata": {},
   "source": [
    "## Linear Regression with Scikit-Learn"
   ]
  },
  {
   "cell_type": "markdown",
   "metadata": {},
   "source": [
    "#### Note: with sklearn, we don't need to add constants mannually. "
   ]
  },
  {
   "cell_type": "code",
   "execution_count": 18,
   "metadata": {},
   "outputs": [],
   "source": [
    "sklearn_reg = LinearRegression()"
   ]
  },
  {
   "cell_type": "code",
   "execution_count": 19,
   "metadata": {},
   "outputs": [
    {
     "data": {
      "text/plain": [
       "LinearRegression(copy_X=True, fit_intercept=True, n_jobs=None, normalize=False)"
      ]
     },
     "execution_count": 19,
     "metadata": {},
     "output_type": "execute_result"
    }
   ],
   "source": [
    "sklearn_reg.fit(X_train, y_train)"
   ]
  },
  {
   "cell_type": "markdown",
   "metadata": {},
   "source": [
    "###  Generating results"
   ]
  },
  {
   "cell_type": "code",
   "execution_count": 20,
   "metadata": {},
   "outputs": [],
   "source": [
    "# The coefficients of the regression; there are +800 explanatory variables here! if you are supercurious, you can look at these coefficients by running the follwoing line.\n",
    "#sklearn_reg.coef_"
   ]
  },
  {
   "cell_type": "code",
   "execution_count": 21,
   "metadata": {},
   "outputs": [
    {
     "data": {
      "text/plain": [
       "13.723085135513399"
      ]
     },
     "execution_count": 21,
     "metadata": {},
     "output_type": "execute_result"
    }
   ],
   "source": [
    "# The intercept of the regression\n",
    "sklearn_reg.intercept_"
   ]
  },
  {
   "cell_type": "code",
   "execution_count": 22,
   "metadata": {},
   "outputs": [
    {
     "data": {
      "text/plain": [
       "0.5060621704480539"
      ]
     },
     "execution_count": 22,
     "metadata": {},
     "output_type": "execute_result"
    }
   ],
   "source": [
    "# The R-squared of the regression\n",
    "sklearn_reg.score(X_train,y_train)"
   ]
  },
  {
   "cell_type": "code",
   "execution_count": 23,
   "metadata": {},
   "outputs": [
    {
     "data": {
      "text/plain": [
       "0.4882688990245473"
      ]
     },
     "execution_count": 23,
     "metadata": {},
     "output_type": "execute_result"
    }
   ],
   "source": [
    "# If we want to find the Adjusted R-squared we can do so by knowing the R2, the # observations, the # features\n",
    "R2 = sklearn_reg.score(X_train,y_train)\n",
    "n = X_train.shape[0]\n",
    "p = X_train.shape[1]\n",
    "\n",
    "# We find the Adjusted R-squared using the formula\n",
    "adjusted_R2 = 1-(1-R2)*(n-1)/(n-p-1)\n",
    "adjusted_R2"
   ]
  },
  {
   "cell_type": "code",
   "execution_count": 24,
   "metadata": {},
   "outputs": [],
   "source": [
    "# Let's create a new data frame with the names of the features\n",
    "reg_summary = pd.DataFrame(data = X_train.columns, columns=['Features'])\n",
    "reg_summary ['Coefficients'] = sklearn_reg.coef_\n",
    "#reg_summary"
   ]
  },
  {
   "cell_type": "markdown",
   "metadata": {},
   "source": [
    "###  Testing\n",
    "\n",
    "Once we have trained and fine-tuned our model, we can proceed to testing it. Testing is done on a dataset that the algorithm has never seen"
   ]
  },
  {
   "cell_type": "code",
   "execution_count": 25,
   "metadata": {},
   "outputs": [
    {
     "data": {
      "text/plain": [
       "array([13.71969669, 13.08513184, 13.23976613, 13.14711124])"
      ]
     },
     "execution_count": 25,
     "metadata": {},
     "output_type": "execute_result"
    }
   ],
   "source": [
    "# Using our sklearn reg. Remember: sklearn tends to convert everything into arrays rather than data frame. Thus, the head(4) does not work here. \n",
    "sklearn_reg.predict(X_test)[0:4]"
   ]
  },
  {
   "cell_type": "code",
   "execution_count": 26,
   "metadata": {},
   "outputs": [],
   "source": [
    "y_hat_test = sklearn_reg.predict(X_test)\n",
    "log_predictions = pd.DataFrame( {'Actuals':y_test , 'Predictions': y_hat_test})\n",
    "predictions = np.exp(log_predictions)"
   ]
  },
  {
   "cell_type": "markdown",
   "metadata": {},
   "source": [
    "## Question 1: \n",
    "Use LinearRegression() model from Sklearn package and report the RMSE_te (RMSE of the test set) of your model. At this stage I only want you to work on a linear fit."
   ]
  },
  {
   "cell_type": "code",
   "execution_count": 27,
   "metadata": {},
   "outputs": [
    {
     "data": {
      "text/html": [
       "<div>\n",
       "<style scoped>\n",
       "    .dataframe tbody tr th:only-of-type {\n",
       "        vertical-align: middle;\n",
       "    }\n",
       "\n",
       "    .dataframe tbody tr th {\n",
       "        vertical-align: top;\n",
       "    }\n",
       "\n",
       "    .dataframe thead th {\n",
       "        text-align: right;\n",
       "    }\n",
       "</style>\n",
       "<table border=\"1\" class=\"dataframe\">\n",
       "  <thead>\n",
       "    <tr style=\"text-align: right;\">\n",
       "      <th></th>\n",
       "      <th>Actuals</th>\n",
       "      <th>Predictions</th>\n",
       "    </tr>\n",
       "  </thead>\n",
       "  <tbody>\n",
       "    <tr>\n",
       "      <th>3767</th>\n",
       "      <td>1300000.0</td>\n",
       "      <td>9.086331e+05</td>\n",
       "    </tr>\n",
       "    <tr>\n",
       "      <th>24270</th>\n",
       "      <td>540000.0</td>\n",
       "      <td>4.817265e+05</td>\n",
       "    </tr>\n",
       "    <tr>\n",
       "      <th>27718</th>\n",
       "      <td>650000.0</td>\n",
       "      <td>5.622861e+05</td>\n",
       "    </tr>\n",
       "    <tr>\n",
       "      <th>6232</th>\n",
       "      <td>390000.0</td>\n",
       "      <td>5.125283e+05</td>\n",
       "    </tr>\n",
       "    <tr>\n",
       "      <th>11161</th>\n",
       "      <td>900000.0</td>\n",
       "      <td>1.106873e+06</td>\n",
       "    </tr>\n",
       "  </tbody>\n",
       "</table>\n",
       "</div>"
      ],
      "text/plain": [
       "         Actuals   Predictions\n",
       "3767   1300000.0  9.086331e+05\n",
       "24270   540000.0  4.817265e+05\n",
       "27718   650000.0  5.622861e+05\n",
       "6232    390000.0  5.125283e+05\n",
       "11161   900000.0  1.106873e+06"
      ]
     },
     "execution_count": 27,
     "metadata": {},
     "output_type": "execute_result"
    }
   ],
   "source": [
    "# If you are using Sales price: \n",
    "predictions.head()"
   ]
  },
  {
   "cell_type": "code",
   "execution_count": 28,
   "metadata": {},
   "outputs": [
    {
     "data": {
      "text/plain": [
       "473298.25"
      ]
     },
     "execution_count": 28,
     "metadata": {},
     "output_type": "execute_result"
    }
   ],
   "source": [
    "MSE_test = round(np.mean(np.square(predictions['Actuals'] - predictions['Predictions'])),2)\n",
    "RMSE_test = round(np.sqrt(MSE_test),2)\n",
    "RMSE_test"
   ]
  },
  {
   "cell_type": "code",
   "execution_count": 29,
   "metadata": {},
   "outputs": [
    {
     "data": {
      "text/html": [
       "<div>\n",
       "<style scoped>\n",
       "    .dataframe tbody tr th:only-of-type {\n",
       "        vertical-align: middle;\n",
       "    }\n",
       "\n",
       "    .dataframe tbody tr th {\n",
       "        vertical-align: top;\n",
       "    }\n",
       "\n",
       "    .dataframe thead th {\n",
       "        text-align: right;\n",
       "    }\n",
       "</style>\n",
       "<table border=\"1\" class=\"dataframe\">\n",
       "  <thead>\n",
       "    <tr style=\"text-align: right;\">\n",
       "      <th></th>\n",
       "      <th>Actuals</th>\n",
       "      <th>Predictions</th>\n",
       "    </tr>\n",
       "  </thead>\n",
       "  <tbody>\n",
       "    <tr>\n",
       "      <th>3767</th>\n",
       "      <td>14.077875</td>\n",
       "      <td>13.719697</td>\n",
       "    </tr>\n",
       "    <tr>\n",
       "      <th>24270</th>\n",
       "      <td>13.199324</td>\n",
       "      <td>13.085132</td>\n",
       "    </tr>\n",
       "    <tr>\n",
       "      <th>27718</th>\n",
       "      <td>13.384728</td>\n",
       "      <td>13.239766</td>\n",
       "    </tr>\n",
       "    <tr>\n",
       "      <th>6232</th>\n",
       "      <td>12.873902</td>\n",
       "      <td>13.147111</td>\n",
       "    </tr>\n",
       "    <tr>\n",
       "      <th>11161</th>\n",
       "      <td>13.710150</td>\n",
       "      <td>13.917049</td>\n",
       "    </tr>\n",
       "  </tbody>\n",
       "</table>\n",
       "</div>"
      ],
      "text/plain": [
       "         Actuals  Predictions\n",
       "3767   14.077875    13.719697\n",
       "24270  13.199324    13.085132\n",
       "27718  13.384728    13.239766\n",
       "6232   12.873902    13.147111\n",
       "11161  13.710150    13.917049"
      ]
     },
     "execution_count": 29,
     "metadata": {},
     "output_type": "execute_result"
    }
   ],
   "source": [
    "# If you are using Log(Sales price): \n",
    "log_predictions.head()"
   ]
  },
  {
   "cell_type": "code",
   "execution_count": 30,
   "metadata": {},
   "outputs": [
    {
     "data": {
      "text/plain": [
       "0.54"
      ]
     },
     "execution_count": 30,
     "metadata": {},
     "output_type": "execute_result"
    }
   ],
   "source": [
    "MSE_test = round(np.mean(np.square(log_predictions['Actuals'] - log_predictions['Predictions'])),2)\n",
    "RMSE_test = round(np.sqrt(MSE_test),2)\n",
    "RMSE_test"
   ]
  },
  {
   "cell_type": "markdown",
   "metadata": {},
   "source": [
    "## Question 2: \n",
    "Estimate the RMSE_te using K-Fold Cross Validation technique (try K=5 and K=10). Compare this RMSE_CV with the RMSE_te from part 1. Make some comparison comments about RMSE_te and RMSE_CV. "
   ]
  },
  {
   "cell_type": "code",
   "execution_count": 31,
   "metadata": {},
   "outputs": [],
   "source": [
    "from sklearn.model_selection import cross_val_score\n",
    "import sklearn.metrics"
   ]
  },
  {
   "cell_type": "code",
   "execution_count": 32,
   "metadata": {},
   "outputs": [],
   "source": [
    "model= LinearRegression()"
   ]
  },
  {
   "cell_type": "code",
   "execution_count": 33,
   "metadata": {},
   "outputs": [
    {
     "data": {
      "text/html": [
       "<div>\n",
       "<style scoped>\n",
       "    .dataframe tbody tr th:only-of-type {\n",
       "        vertical-align: middle;\n",
       "    }\n",
       "\n",
       "    .dataframe tbody tr th {\n",
       "        vertical-align: top;\n",
       "    }\n",
       "\n",
       "    .dataframe thead th {\n",
       "        text-align: right;\n",
       "    }\n",
       "</style>\n",
       "<table border=\"1\" class=\"dataframe\">\n",
       "  <thead>\n",
       "    <tr style=\"text-align: right;\">\n",
       "      <th></th>\n",
       "      <th>K</th>\n",
       "      <th>RMSE_CV</th>\n",
       "    </tr>\n",
       "  </thead>\n",
       "  <tbody>\n",
       "    <tr>\n",
       "      <th>0</th>\n",
       "      <td>5</td>\n",
       "      <td>0.75</td>\n",
       "    </tr>\n",
       "    <tr>\n",
       "      <th>1</th>\n",
       "      <td>10</td>\n",
       "      <td>0.57</td>\n",
       "    </tr>\n",
       "  </tbody>\n",
       "</table>\n",
       "</div>"
      ],
      "text/plain": [
       "    K  RMSE_CV\n",
       "0   5     0.75\n",
       "1  10     0.57"
      ]
     },
     "execution_count": 33,
     "metadata": {},
     "output_type": "execute_result"
    }
   ],
   "source": [
    "RMSE_CV=[]\n",
    "K = (5,10)\n",
    "for i in K:\n",
    "    NMSE = cross_val_score(estimator = model, X = X_train, y = y_train, cv = i , scoring=\"neg_mean_squared_error\" )\n",
    "    RMSE_CV.append(round(np.sqrt(-NMSE).mean(),2))\n",
    "\n",
    "RMSE_CV_df = pd.DataFrame(K, columns=['K'])\n",
    "RMSE_CV_df['RMSE_CV']=RMSE_CV\n",
    "\n",
    "RMSE_CV_df"
   ]
  },
  {
   "cell_type": "markdown",
   "metadata": {},
   "source": [
    "As we can see from the table above, the RMSE_CV is greater than the RMSE_te= 0.54. This means that our CV RMSE is overestimating the RMSE_te. This overestimation is way bigger for 5-fold versus 10-fold cross validation. "
   ]
  },
  {
   "cell_type": "markdown",
   "metadata": {},
   "source": [
    "## Question 3: Bonus Exercise \n",
    "Incorporate non-linearity in the feature space (pick the variables that you think it make most sense to have them as polynomial features in the model) and calculate the new RMSE_te. Use cross validation and elbow method to figure out the optimal polynomial degree. Were you able to improve the performance of your model? Is this improvement worth losing interpretability ?"
   ]
  },
  {
   "cell_type": "markdown",
   "metadata": {},
   "source": [
    "for this part, we are going to pick \"**LAND SQUARE FEET**\" as our candidate for incorporating non-linearity."
   ]
  },
  {
   "cell_type": "code",
   "execution_count": 130,
   "metadata": {},
   "outputs": [],
   "source": [
    "from sklearn.preprocessing import PolynomialFeatures"
   ]
  },
  {
   "cell_type": "code",
   "execution_count": 147,
   "metadata": {},
   "outputs": [],
   "source": [
    "poly= PolynomialFeatures(degree=3)"
   ]
  },
  {
   "cell_type": "code",
   "execution_count": 148,
   "metadata": {},
   "outputs": [
    {
     "data": {
      "text/html": [
       "<div>\n",
       "<style scoped>\n",
       "    .dataframe tbody tr th:only-of-type {\n",
       "        vertical-align: middle;\n",
       "    }\n",
       "\n",
       "    .dataframe tbody tr th {\n",
       "        vertical-align: top;\n",
       "    }\n",
       "\n",
       "    .dataframe thead th {\n",
       "        text-align: right;\n",
       "    }\n",
       "</style>\n",
       "<table border=\"1\" class=\"dataframe\">\n",
       "  <thead>\n",
       "    <tr style=\"text-align: right;\">\n",
       "      <th></th>\n",
       "      <th>0</th>\n",
       "      <th>1</th>\n",
       "      <th>2</th>\n",
       "      <th>3</th>\n",
       "    </tr>\n",
       "  </thead>\n",
       "  <tbody>\n",
       "    <tr>\n",
       "      <th>0</th>\n",
       "      <td>1.0</td>\n",
       "      <td>2272.0</td>\n",
       "      <td>5161984.0</td>\n",
       "      <td>1.172803e+10</td>\n",
       "    </tr>\n",
       "    <tr>\n",
       "      <th>1</th>\n",
       "      <td>1.0</td>\n",
       "      <td>1750.0</td>\n",
       "      <td>3062500.0</td>\n",
       "      <td>5.359375e+09</td>\n",
       "    </tr>\n",
       "    <tr>\n",
       "      <th>2</th>\n",
       "      <td>1.0</td>\n",
       "      <td>1520.0</td>\n",
       "      <td>2310400.0</td>\n",
       "      <td>3.511808e+09</td>\n",
       "    </tr>\n",
       "    <tr>\n",
       "      <th>3</th>\n",
       "      <td>1.0</td>\n",
       "      <td>1218.0</td>\n",
       "      <td>1483524.0</td>\n",
       "      <td>1.806932e+09</td>\n",
       "    </tr>\n",
       "    <tr>\n",
       "      <th>4</th>\n",
       "      <td>1.0</td>\n",
       "      <td>1566.0</td>\n",
       "      <td>2452356.0</td>\n",
       "      <td>3.840389e+09</td>\n",
       "    </tr>\n",
       "  </tbody>\n",
       "</table>\n",
       "</div>"
      ],
      "text/plain": [
       "     0       1          2             3\n",
       "0  1.0  2272.0  5161984.0  1.172803e+10\n",
       "1  1.0  1750.0  3062500.0  5.359375e+09\n",
       "2  1.0  1520.0  2310400.0  3.511808e+09\n",
       "3  1.0  1218.0  1483524.0  1.806932e+09\n",
       "4  1.0  1566.0  2452356.0  3.840389e+09"
      ]
     },
     "execution_count": 148,
     "metadata": {},
     "output_type": "execute_result"
    }
   ],
   "source": [
    "X_poly= pd.DataFrame(poly.fit_transform(np.array(df['LAND SQUARE FEET']).reshape(-1,1)))\n",
    "X_poly.head()"
   ]
  },
  {
   "cell_type": "markdown",
   "metadata": {},
   "source": [
    "Working with sklearn, we don't need to add constant. So we need to drop the first column in X_poly. Then we can merge this data frame to our original df. However, we have to remove the 'LAND SQUARE FEET' column from our final data frame to avoid perfect collinearity. "
   ]
  },
  {
   "cell_type": "code",
   "execution_count": 149,
   "metadata": {},
   "outputs": [
    {
     "data": {
      "text/html": [
       "<div>\n",
       "<style scoped>\n",
       "    .dataframe tbody tr th:only-of-type {\n",
       "        vertical-align: middle;\n",
       "    }\n",
       "\n",
       "    .dataframe tbody tr th {\n",
       "        vertical-align: top;\n",
       "    }\n",
       "\n",
       "    .dataframe thead th {\n",
       "        text-align: right;\n",
       "    }\n",
       "</style>\n",
       "<table border=\"1\" class=\"dataframe\">\n",
       "  <thead>\n",
       "    <tr style=\"text-align: right;\">\n",
       "      <th></th>\n",
       "      <th>1</th>\n",
       "      <th>2</th>\n",
       "      <th>3</th>\n",
       "    </tr>\n",
       "  </thead>\n",
       "  <tbody>\n",
       "    <tr>\n",
       "      <th>0</th>\n",
       "      <td>2272.0</td>\n",
       "      <td>5161984.0</td>\n",
       "      <td>1.172803e+10</td>\n",
       "    </tr>\n",
       "    <tr>\n",
       "      <th>1</th>\n",
       "      <td>1750.0</td>\n",
       "      <td>3062500.0</td>\n",
       "      <td>5.359375e+09</td>\n",
       "    </tr>\n",
       "    <tr>\n",
       "      <th>2</th>\n",
       "      <td>1520.0</td>\n",
       "      <td>2310400.0</td>\n",
       "      <td>3.511808e+09</td>\n",
       "    </tr>\n",
       "    <tr>\n",
       "      <th>3</th>\n",
       "      <td>1218.0</td>\n",
       "      <td>1483524.0</td>\n",
       "      <td>1.806932e+09</td>\n",
       "    </tr>\n",
       "    <tr>\n",
       "      <th>4</th>\n",
       "      <td>1566.0</td>\n",
       "      <td>2452356.0</td>\n",
       "      <td>3.840389e+09</td>\n",
       "    </tr>\n",
       "  </tbody>\n",
       "</table>\n",
       "</div>"
      ],
      "text/plain": [
       "        1          2             3\n",
       "0  2272.0  5161984.0  1.172803e+10\n",
       "1  1750.0  3062500.0  5.359375e+09\n",
       "2  1520.0  2310400.0  3.511808e+09\n",
       "3  1218.0  1483524.0  1.806932e+09\n",
       "4  1566.0  2452356.0  3.840389e+09"
      ]
     },
     "execution_count": 149,
     "metadata": {},
     "output_type": "execute_result"
    }
   ],
   "source": [
    "X_poly.drop(0, axis=1, inplace=True)\n",
    "X_poly.head()"
   ]
  },
  {
   "cell_type": "code",
   "execution_count": 150,
   "metadata": {},
   "outputs": [
    {
     "data": {
      "text/plain": [
       "(30236, 18)"
      ]
     },
     "execution_count": 150,
     "metadata": {},
     "output_type": "execute_result"
    }
   ],
   "source": [
    "new_df = pd.concat([X_poly,df],axis=1 )\n",
    "new_df.drop('LAND SQUARE FEET',axis=1,inplace=True)\n",
    "new_df.shape"
   ]
  },
  {
   "cell_type": "code",
   "execution_count": 151,
   "metadata": {},
   "outputs": [
    {
     "data": {
      "text/plain": [
       "(30236, 845)"
      ]
     },
     "execution_count": 151,
     "metadata": {},
     "output_type": "execute_result"
    }
   ],
   "source": [
    "new_df = pd.get_dummies(new_df, drop_first=True)\n",
    "new_df.shape"
   ]
  },
  {
   "cell_type": "code",
   "execution_count": 152,
   "metadata": {},
   "outputs": [],
   "source": [
    "y = new_df['lsales']\n",
    "X = new_df.drop(['lsales','SALE PRICE'], axis=1) # becareful inplace= False\n",
    "\n",
    "from sklearn.model_selection import train_test_split\n",
    "X_train, X_test, y_train, y_test = train_test_split(X, y, test_size=0.2, random_state=rand_state)"
   ]
  },
  {
   "cell_type": "code",
   "execution_count": 153,
   "metadata": {},
   "outputs": [],
   "source": [
    "sklean_reg = LinearRegression()\n",
    "sklearn_reg.fit(X_train, y_train)\n",
    "y_pred = sklearn_reg.predict(X_test)"
   ]
  },
  {
   "cell_type": "code",
   "execution_count": 154,
   "metadata": {},
   "outputs": [
    {
     "data": {
      "text/plain": [
       "0.72"
      ]
     },
     "execution_count": 154,
     "metadata": {},
     "output_type": "execute_result"
    }
   ],
   "source": [
    "RMSE_te = round(np.sqrt(np.mean(np.square(y_test-y_pred))),2)\n",
    "RMSE_te"
   ]
  },
  {
   "cell_type": "code",
   "execution_count": 155,
   "metadata": {},
   "outputs": [
    {
     "data": {
      "text/plain": [
       "1.16"
      ]
     },
     "execution_count": 155,
     "metadata": {},
     "output_type": "execute_result"
    }
   ],
   "source": [
    "NMSE = cross_val_score(estimator = sklean_reg, X = X_train, y = y_train, cv = 5 , scoring=\"neg_mean_squared_error\" )\n",
    "RMSE_CV=round(np.sqrt(-NMSE).mean(),2)\n",
    "RMSE_CV"
   ]
  },
  {
   "cell_type": "markdown",
   "metadata": {},
   "source": [
    "As we can see, it seems that polynomial model with degree 3 is worse than our simple model in part 1. (RMSE_te 0.72 vs 0.54). \n",
    "\n",
    "Now let's figure out what is the best polynomial degree using elbow method. "
   ]
  },
  {
   "cell_type": "code",
   "execution_count": 156,
   "metadata": {},
   "outputs": [
    {
     "data": {
      "text/html": [
       "<div>\n",
       "<style scoped>\n",
       "    .dataframe tbody tr th:only-of-type {\n",
       "        vertical-align: middle;\n",
       "    }\n",
       "\n",
       "    .dataframe tbody tr th {\n",
       "        vertical-align: top;\n",
       "    }\n",
       "\n",
       "    .dataframe thead th {\n",
       "        text-align: right;\n",
       "    }\n",
       "</style>\n",
       "<table border=\"1\" class=\"dataframe\">\n",
       "  <thead>\n",
       "    <tr style=\"text-align: right;\">\n",
       "      <th></th>\n",
       "      <th>Poly degree</th>\n",
       "      <th>RMSE_te</th>\n",
       "      <th>RMSE_CV</th>\n",
       "    </tr>\n",
       "  </thead>\n",
       "  <tbody>\n",
       "    <tr>\n",
       "      <th>0</th>\n",
       "      <td>1</td>\n",
       "      <td>0.54</td>\n",
       "      <td>0.848361</td>\n",
       "    </tr>\n",
       "    <tr>\n",
       "      <th>1</th>\n",
       "      <td>2</td>\n",
       "      <td>0.54</td>\n",
       "      <td>1.561680</td>\n",
       "    </tr>\n",
       "    <tr>\n",
       "      <th>2</th>\n",
       "      <td>3</td>\n",
       "      <td>0.72</td>\n",
       "      <td>1.467702</td>\n",
       "    </tr>\n",
       "    <tr>\n",
       "      <th>3</th>\n",
       "      <td>4</td>\n",
       "      <td>0.72</td>\n",
       "      <td>15.791716</td>\n",
       "    </tr>\n",
       "  </tbody>\n",
       "</table>\n",
       "</div>"
      ],
      "text/plain": [
       "   Poly degree  RMSE_te    RMSE_CV\n",
       "0            1     0.54   0.848361\n",
       "1            2     0.54   1.561680\n",
       "2            3     0.72   1.467702\n",
       "3            4     0.72  15.791716"
      ]
     },
     "execution_count": 156,
     "metadata": {},
     "output_type": "execute_result"
    }
   ],
   "source": [
    "d = 4\n",
    "RMSE_te_poly=[]\n",
    "RMSE_CV_poly=[]\n",
    "for i in range(1,d+1):\n",
    "    poly= PolynomialFeatures(degree=i)\n",
    "    X_poly= pd.DataFrame(poly.fit_transform(np.array(df['LAND SQUARE FEET']).reshape(-1,1)))\n",
    "    X_poly.drop(0, axis=1, inplace=True)\n",
    "    new_df = pd.concat([X_poly,df],axis=1 )\n",
    "    new_df.drop('LAND SQUARE FEET',axis=1,inplace=True)\n",
    "    new_df = pd.get_dummies(new_df, drop_first=True)\n",
    "    \n",
    "    X_train, X_test, y_train, y_test = train_test_split(new_df.drop(['lsales','SALE PRICE'], axis=1), new_df['lsales'], test_size=0.2, random_state=rand_state)\n",
    "    sklean_reg = LinearRegression()\n",
    "    sklearn_reg.fit(X_train, y_train)\n",
    "    RMSE_te_poly.append(round(np.sqrt(np.mean(np.square(y_test-sklearn_reg.predict(X_test)))),2))\n",
    "    RMSE_CV_poly.append(np.sqrt(-cross_val_score(estimator = sklean_reg, X = X_train, y = y_train, cv = 5 , scoring=\"neg_mean_squared_error\" ).mean()))\n",
    "    \n",
    "output = pd.DataFrame(list(range(1,d+1)), columns=['Poly degree'])\n",
    "output['RMSE_te']=RMSE_te_poly\n",
    "output['RMSE_CV']=RMSE_CV_poly\n",
    "output"
   ]
  },
  {
   "cell_type": "markdown",
   "metadata": {},
   "source": [
    "The best polynomial degree is d=1. So we conclude that '**'LAND SQUARE FEET'**' was not our best choice to incorporate non-linearity for. "
   ]
  }
 ],
 "metadata": {
  "kernelspec": {
   "display_name": "Python 3",
   "language": "python",
   "name": "python3"
  },
  "language_info": {
   "codemirror_mode": {
    "name": "ipython",
    "version": 3
   },
   "file_extension": ".py",
   "mimetype": "text/x-python",
   "name": "python",
   "nbconvert_exporter": "python",
   "pygments_lexer": "ipython3",
   "version": "3.7.3"
  }
 },
 "nbformat": 4,
 "nbformat_minor": 4
}
