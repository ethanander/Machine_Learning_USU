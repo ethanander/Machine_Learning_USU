{
 "cells": [
  {
   "cell_type": "markdown",
   "metadata": {},
   "source": [
    "\n",
    "## HW2 (answer key)\n",
    "### [NYC property sales](https://www.kaggle.com/new-york-city/nyc-property-sales) : EDA \n",
    "\n",
    "Instructor: [Pedram Jahangiry](https://github.com/PJalgotrader) "
   ]
  },
  {
   "cell_type": "code",
   "execution_count": 1,
   "metadata": {},
   "outputs": [],
   "source": [
    "import numpy as np\n",
    "import pandas as pd \n",
    "import matplotlib.pyplot as plt\n",
    "import seaborn as sns\n",
    "import statsmodels.api as sm\n",
    "\n",
    "sns.set()"
   ]
  },
  {
   "cell_type": "code",
   "execution_count": 2,
   "metadata": {},
   "outputs": [],
   "source": [
    "rand_state=1000"
   ]
  },
  {
   "cell_type": "code",
   "execution_count": 3,
   "metadata": {},
   "outputs": [
    {
     "data": {
      "text/html": [
       "<div>\n",
       "<style scoped>\n",
       "    .dataframe tbody tr th:only-of-type {\n",
       "        vertical-align: middle;\n",
       "    }\n",
       "\n",
       "    .dataframe tbody tr th {\n",
       "        vertical-align: top;\n",
       "    }\n",
       "\n",
       "    .dataframe thead th {\n",
       "        text-align: right;\n",
       "    }\n",
       "</style>\n",
       "<table border=\"1\" class=\"dataframe\">\n",
       "  <thead>\n",
       "    <tr style=\"text-align: right;\">\n",
       "      <th></th>\n",
       "      <th>Unnamed: 0</th>\n",
       "      <th>BOROUGH</th>\n",
       "      <th>NEIGHBORHOOD</th>\n",
       "      <th>BUILDING CLASS CATEGORY</th>\n",
       "      <th>TAX CLASS AT PRESENT</th>\n",
       "      <th>BLOCK</th>\n",
       "      <th>LOT</th>\n",
       "      <th>EASE-MENT</th>\n",
       "      <th>BUILDING CLASS AT PRESENT</th>\n",
       "      <th>ADDRESS</th>\n",
       "      <th>...</th>\n",
       "      <th>RESIDENTIAL UNITS</th>\n",
       "      <th>COMMERCIAL UNITS</th>\n",
       "      <th>TOTAL UNITS</th>\n",
       "      <th>LAND SQUARE FEET</th>\n",
       "      <th>GROSS SQUARE FEET</th>\n",
       "      <th>YEAR BUILT</th>\n",
       "      <th>TAX CLASS AT TIME OF SALE</th>\n",
       "      <th>BUILDING CLASS AT TIME OF SALE</th>\n",
       "      <th>SALE PRICE</th>\n",
       "      <th>SALE DATE</th>\n",
       "    </tr>\n",
       "  </thead>\n",
       "  <tbody>\n",
       "    <tr>\n",
       "      <th>0</th>\n",
       "      <td>4</td>\n",
       "      <td>1</td>\n",
       "      <td>ALPHABET CITY</td>\n",
       "      <td>07 RENTALS - WALKUP APARTMENTS</td>\n",
       "      <td>2A</td>\n",
       "      <td>392</td>\n",
       "      <td>6</td>\n",
       "      <td></td>\n",
       "      <td>C2</td>\n",
       "      <td>153 AVENUE B</td>\n",
       "      <td>...</td>\n",
       "      <td>5</td>\n",
       "      <td>0</td>\n",
       "      <td>5</td>\n",
       "      <td>1633</td>\n",
       "      <td>6440</td>\n",
       "      <td>1900</td>\n",
       "      <td>2</td>\n",
       "      <td>C2</td>\n",
       "      <td>6625000</td>\n",
       "      <td>2017-07-19 00:00:00</td>\n",
       "    </tr>\n",
       "    <tr>\n",
       "      <th>1</th>\n",
       "      <td>5</td>\n",
       "      <td>1</td>\n",
       "      <td>ALPHABET CITY</td>\n",
       "      <td>07 RENTALS - WALKUP APARTMENTS</td>\n",
       "      <td>2</td>\n",
       "      <td>399</td>\n",
       "      <td>26</td>\n",
       "      <td></td>\n",
       "      <td>C7</td>\n",
       "      <td>234 EAST 4TH   STREET</td>\n",
       "      <td>...</td>\n",
       "      <td>28</td>\n",
       "      <td>3</td>\n",
       "      <td>31</td>\n",
       "      <td>4616</td>\n",
       "      <td>18690</td>\n",
       "      <td>1900</td>\n",
       "      <td>2</td>\n",
       "      <td>C7</td>\n",
       "      <td>-</td>\n",
       "      <td>2016-12-14 00:00:00</td>\n",
       "    </tr>\n",
       "    <tr>\n",
       "      <th>2</th>\n",
       "      <td>6</td>\n",
       "      <td>1</td>\n",
       "      <td>ALPHABET CITY</td>\n",
       "      <td>07 RENTALS - WALKUP APARTMENTS</td>\n",
       "      <td>2</td>\n",
       "      <td>399</td>\n",
       "      <td>39</td>\n",
       "      <td></td>\n",
       "      <td>C7</td>\n",
       "      <td>197 EAST 3RD   STREET</td>\n",
       "      <td>...</td>\n",
       "      <td>16</td>\n",
       "      <td>1</td>\n",
       "      <td>17</td>\n",
       "      <td>2212</td>\n",
       "      <td>7803</td>\n",
       "      <td>1900</td>\n",
       "      <td>2</td>\n",
       "      <td>C7</td>\n",
       "      <td>-</td>\n",
       "      <td>2016-12-09 00:00:00</td>\n",
       "    </tr>\n",
       "    <tr>\n",
       "      <th>3</th>\n",
       "      <td>7</td>\n",
       "      <td>1</td>\n",
       "      <td>ALPHABET CITY</td>\n",
       "      <td>07 RENTALS - WALKUP APARTMENTS</td>\n",
       "      <td>2B</td>\n",
       "      <td>402</td>\n",
       "      <td>21</td>\n",
       "      <td></td>\n",
       "      <td>C4</td>\n",
       "      <td>154 EAST 7TH STREET</td>\n",
       "      <td>...</td>\n",
       "      <td>10</td>\n",
       "      <td>0</td>\n",
       "      <td>10</td>\n",
       "      <td>2272</td>\n",
       "      <td>6794</td>\n",
       "      <td>1913</td>\n",
       "      <td>2</td>\n",
       "      <td>C4</td>\n",
       "      <td>3936272</td>\n",
       "      <td>2016-09-23 00:00:00</td>\n",
       "    </tr>\n",
       "    <tr>\n",
       "      <th>4</th>\n",
       "      <td>8</td>\n",
       "      <td>1</td>\n",
       "      <td>ALPHABET CITY</td>\n",
       "      <td>07 RENTALS - WALKUP APARTMENTS</td>\n",
       "      <td>2A</td>\n",
       "      <td>404</td>\n",
       "      <td>55</td>\n",
       "      <td></td>\n",
       "      <td>C2</td>\n",
       "      <td>301 EAST 10TH   STREET</td>\n",
       "      <td>...</td>\n",
       "      <td>6</td>\n",
       "      <td>0</td>\n",
       "      <td>6</td>\n",
       "      <td>2369</td>\n",
       "      <td>4615</td>\n",
       "      <td>1900</td>\n",
       "      <td>2</td>\n",
       "      <td>C2</td>\n",
       "      <td>8000000</td>\n",
       "      <td>2016-11-17 00:00:00</td>\n",
       "    </tr>\n",
       "  </tbody>\n",
       "</table>\n",
       "<p>5 rows × 22 columns</p>\n",
       "</div>"
      ],
      "text/plain": [
       "   Unnamed: 0  BOROUGH   NEIGHBORHOOD  \\\n",
       "0           4        1  ALPHABET CITY   \n",
       "1           5        1  ALPHABET CITY   \n",
       "2           6        1  ALPHABET CITY   \n",
       "3           7        1  ALPHABET CITY   \n",
       "4           8        1  ALPHABET CITY   \n",
       "\n",
       "                       BUILDING CLASS CATEGORY TAX CLASS AT PRESENT  BLOCK  \\\n",
       "0  07 RENTALS - WALKUP APARTMENTS                                2A    392   \n",
       "1  07 RENTALS - WALKUP APARTMENTS                                 2    399   \n",
       "2  07 RENTALS - WALKUP APARTMENTS                                 2    399   \n",
       "3  07 RENTALS - WALKUP APARTMENTS                                2B    402   \n",
       "4  07 RENTALS - WALKUP APARTMENTS                                2A    404   \n",
       "\n",
       "   LOT EASE-MENT BUILDING CLASS AT PRESENT                 ADDRESS  ...  \\\n",
       "0    6                                  C2            153 AVENUE B  ...   \n",
       "1   26                                  C7   234 EAST 4TH   STREET  ...   \n",
       "2   39                                  C7   197 EAST 3RD   STREET  ...   \n",
       "3   21                                  C4     154 EAST 7TH STREET  ...   \n",
       "4   55                                  C2  301 EAST 10TH   STREET  ...   \n",
       "\n",
       "  RESIDENTIAL UNITS  COMMERCIAL UNITS  TOTAL UNITS  LAND SQUARE FEET  \\\n",
       "0                 5                 0            5              1633   \n",
       "1                28                 3           31              4616   \n",
       "2                16                 1           17              2212   \n",
       "3                10                 0           10              2272   \n",
       "4                 6                 0            6              2369   \n",
       "\n",
       "   GROSS SQUARE FEET YEAR BUILT TAX CLASS AT TIME OF SALE  \\\n",
       "0               6440       1900                         2   \n",
       "1              18690       1900                         2   \n",
       "2               7803       1900                         2   \n",
       "3               6794       1913                         2   \n",
       "4               4615       1900                         2   \n",
       "\n",
       "   BUILDING CLASS AT TIME OF SALE  SALE PRICE            SALE DATE  \n",
       "0                              C2     6625000  2017-07-19 00:00:00  \n",
       "1                              C7         -    2016-12-14 00:00:00  \n",
       "2                              C7         -    2016-12-09 00:00:00  \n",
       "3                              C4     3936272  2016-09-23 00:00:00  \n",
       "4                              C2     8000000  2016-11-17 00:00:00  \n",
       "\n",
       "[5 rows x 22 columns]"
      ]
     },
     "execution_count": 3,
     "metadata": {},
     "output_type": "execute_result"
    }
   ],
   "source": [
    "df = pd.read_csv(\"nyc-rolling-sales.csv\")\n",
    "df_raw = df\n",
    "df.head()"
   ]
  },
  {
   "cell_type": "code",
   "execution_count": 4,
   "metadata": {},
   "outputs": [
    {
     "name": "stdout",
     "output_type": "stream",
     "text": [
      "<class 'pandas.core.frame.DataFrame'>\n",
      "RangeIndex: 84548 entries, 0 to 84547\n",
      "Data columns (total 22 columns):\n",
      "Unnamed: 0                        84548 non-null int64\n",
      "BOROUGH                           84548 non-null int64\n",
      "NEIGHBORHOOD                      84548 non-null object\n",
      "BUILDING CLASS CATEGORY           84548 non-null object\n",
      "TAX CLASS AT PRESENT              84548 non-null object\n",
      "BLOCK                             84548 non-null int64\n",
      "LOT                               84548 non-null int64\n",
      "EASE-MENT                         84548 non-null object\n",
      "BUILDING CLASS AT PRESENT         84548 non-null object\n",
      "ADDRESS                           84548 non-null object\n",
      "APARTMENT NUMBER                  84548 non-null object\n",
      "ZIP CODE                          84548 non-null int64\n",
      "RESIDENTIAL UNITS                 84548 non-null int64\n",
      "COMMERCIAL UNITS                  84548 non-null int64\n",
      "TOTAL UNITS                       84548 non-null int64\n",
      "LAND SQUARE FEET                  84548 non-null object\n",
      "GROSS SQUARE FEET                 84548 non-null object\n",
      "YEAR BUILT                        84548 non-null int64\n",
      "TAX CLASS AT TIME OF SALE         84548 non-null int64\n",
      "BUILDING CLASS AT TIME OF SALE    84548 non-null object\n",
      "SALE PRICE                        84548 non-null object\n",
      "SALE DATE                         84548 non-null object\n",
      "dtypes: int64(10), object(12)\n",
      "memory usage: 14.2+ MB\n"
     ]
    }
   ],
   "source": [
    "df.info()"
   ]
  },
  {
   "cell_type": "code",
   "execution_count": 5,
   "metadata": {},
   "outputs": [],
   "source": [
    "# First Let's remove  irrelavant columns: \n",
    "df.drop([\"Unnamed: 0\"], axis=1, inplace=True)"
   ]
  },
  {
   "cell_type": "code",
   "execution_count": 6,
   "metadata": {},
   "outputs": [
    {
     "name": "stdout",
     "output_type": "stream",
     "text": [
      "BOROUGH 5\n",
      "NEIGHBORHOOD 254\n",
      "BUILDING CLASS CATEGORY 47\n",
      "TAX CLASS AT PRESENT 11\n",
      "BLOCK 11566\n",
      "LOT 2627\n",
      "EASE-MENT 1\n",
      "BUILDING CLASS AT PRESENT 167\n",
      "ADDRESS 67563\n",
      "APARTMENT NUMBER 3989\n",
      "ZIP CODE 186\n",
      "RESIDENTIAL UNITS 176\n",
      "COMMERCIAL UNITS 55\n",
      "TOTAL UNITS 192\n",
      "LAND SQUARE FEET 6062\n",
      "GROSS SQUARE FEET 5691\n",
      "YEAR BUILT 158\n",
      "TAX CLASS AT TIME OF SALE 4\n",
      "BUILDING CLASS AT TIME OF SALE 166\n",
      "SALE PRICE 10008\n",
      "SALE DATE 364\n"
     ]
    }
   ],
   "source": [
    "# Now let's figure out what should be the type of variables:\n",
    "\n",
    "for col in df.columns:\n",
    "   # if df[col].dtype==\"object\":\n",
    "        print(col, df[col].nunique())"
   ]
  },
  {
   "cell_type": "markdown",
   "metadata": {},
   "source": [
    "### Exploring the variables:\n",
    "\n",
    "1. **BOROUGH**:  A digit code for the borough the property is located in; in order these are Manhattan (1), Bronx (2), Brooklyn (3), Queens (4), and Staten Island (5). **This variable should be a categorical variable**\n",
    "\n",
    "2. **NEIGHBORHOOD**: Department of Finance assessors determine the neighborhood name in the course of valuing properties. The common name of the neighborhood is generally the same as the name Finance designates. However, there may be slight differences in neighborhood boundary lines and some sub-neighborhoods may not be included. **This variable should be categorical.**\n",
    "\n",
    "3. **BUILDING CLASS CATEGORY**: This is a field that we are including so that users of the Rolling Sales Files can easily identify similar properties by broad usage (e.g. One Family Homes) without looking up individual Building Classes. Files are sorted by Borough, Neighborhood, Building Class Category, Block and Lot. **This variable should be categorical.**\n",
    "\n",
    "4. **TAX CLASS AT PRESENT** Every property in the city is assigned to one of four tax classes (Classes 1, 2, 3, and 4), based on the use of the property. **This variable should be categorical.**\n",
    "\n",
    "- Class 1: Includes most residential property of up to three units (such as one-, two-, and three-family homes and small stores or offices with one or two attached apartments), vacant land that is zoned for residential use, and most condominiums that are not more than three stories.\n",
    "- Class 2: Includes all other property that is primarily residential, such as cooperatives and condominiums.\n",
    "- Class 3: Includes property with equipment owned by a gas, telephone or electric company.\n",
    "- Class 4: Includes all other properties not included in class 1,2, and 3, such as offices, factories, warehouses, garage buildings, etc.\n",
    "\n",
    "\n",
    "5. **BLOCK** and **LOT**: A Tax Block is a sub-division of the borough on which real properties are located. The Department of Finance uses a Borough-Block-Lot classification to label all real property in the City. “Whereas” addresses describe the street location of a property, the block and lot distinguishes one unit of real property from another, such as the different condominiums in a single building. Also, block and lots are not subject to name changes based on which side of the parcel the building puts its entrance on. A Tax Lot is a subdivision of a Tax Block and represents the property unique location. **Because there are more than 11k unique blocks in the dataset, it doesn't make sense to define it as a categorical variable! Will leave it as numerical. The same story for LOT**\n",
    "\n",
    "6. **BUILDING CLASS AT PRESENT**: The Building Classification is used to describe a property’s constructive use. The first position of the Building Class is a letter that is used to describe a general class of properties (for example “A” signifies one-family homes, “O” signifies office buildings. “R” signifies condominiums). The second position, a number, adds more specific information about the property’s use or construction style (using our previous examples “A0” is a Cape Cod style one family home, “O4” is a tower type office building and “R5” is a commercial condominium unit). The term Building Class used by the Department of Finance is interchangeable with the term Building Code used by the Department of Buildings. **This variable should be categorical.**\n",
    "\n",
    "\n",
    "7. **ADDRESS**: The street address of the property as listed on the Sales File. Coop sales include the apartment number in the address field. ** We are not going to extract any information from the address in this course!**\n",
    "\n",
    "8. **ZIP CODE**: The property’s postal code. **This variable should be categorical.**\n",
    "9. **RESIDENTIAL UNITS** : The number of residential units at the listed property. **This variable should be numeric** \n",
    "\n",
    "10. **COMMERCIAL UNITS** :The number of commercial units at the listed property. **This variable should be numeric** \n",
    "\n",
    "11. **TOTAL UNITS** :The total number of units at the listed property. **This variable should be numeric** \n",
    "12. **LAND SQUARE FEET** : The land area of the property listed in square feet. **This variable should be numeric**\n",
    "13. **GROSS SQUARE FEET** : The total area of all the floors of a building as measured from the exterior surfaces of the outside walls of the building, including the land area and space within any building or structure on the property. **This variable should be numeric** \n",
    "\n",
    "\n",
    "14. **YEAR BUILT** :  Year the structure on the property was built.  **This variable should be categorical** \n",
    "15. **TAX CLASS AT TIME OF SALE** and **BUILDING CLASS AT TIME OF SALE**. Both of these variables should be **categorical**. \n",
    "17. **SALE PRICE** : This variable should be **numeric.**\n",
    "18. **SALE DATE** : This variable should be **data time.** However, we can save the \"year\" or \"month\" part as a new categorical variable.  \n",
    "\n",
    "19. **EASEMENT**: An easement is a right, such as a right of way, which allows an entity to make limited use of another’s real property. For example: MTA railroad tracks that run across a portion of another property.\n",
    "\n",
    "\n",
    "Note: **0 Dollar Sales Price**:\n",
    "A 0 dollar sale indicates that there was a transfer of ownership without a cash consideration. There can be a number of reasons for a 0 dollar sale including transfers of ownership from parents to children. **We will remove all of these observations**\n",
    "\n",
    "\n",
    "\n",
    "\n",
    "\n",
    "\n"
   ]
  },
  {
   "cell_type": "code",
   "execution_count": 7,
   "metadata": {},
   "outputs": [],
   "source": [
    "# constructing the date time variable\n",
    "\n",
    "df['SALE DATE']= pd.to_datetime(df['SALE DATE'], errors='coerce')"
   ]
  },
  {
   "cell_type": "code",
   "execution_count": 8,
   "metadata": {},
   "outputs": [
    {
     "data": {
      "text/plain": [
       "Int64Index([2017, 2016, 2016, 2016, 2016, 2017, 2016, 2017, 2017, 2016,\n",
       "            ...\n",
       "            2017, 2016, 2016, 2016, 2016, 2016, 2017, 2017, 2016, 2016],\n",
       "           dtype='int64', name='SALE DATE', length=84548)"
      ]
     },
     "execution_count": 8,
     "metadata": {},
     "output_type": "execute_result"
    }
   ],
   "source": [
    "pd.DatetimeIndex(df['SALE DATE']).year"
   ]
  },
  {
   "cell_type": "code",
   "execution_count": 9,
   "metadata": {},
   "outputs": [
    {
     "data": {
      "text/html": [
       "<div>\n",
       "<style scoped>\n",
       "    .dataframe tbody tr th:only-of-type {\n",
       "        vertical-align: middle;\n",
       "    }\n",
       "\n",
       "    .dataframe tbody tr th {\n",
       "        vertical-align: top;\n",
       "    }\n",
       "\n",
       "    .dataframe thead th {\n",
       "        text-align: right;\n",
       "    }\n",
       "</style>\n",
       "<table border=\"1\" class=\"dataframe\">\n",
       "  <thead>\n",
       "    <tr style=\"text-align: right;\">\n",
       "      <th>sale_year</th>\n",
       "      <th>2016</th>\n",
       "      <th>2017</th>\n",
       "    </tr>\n",
       "    <tr>\n",
       "      <th>sale_month</th>\n",
       "      <th></th>\n",
       "      <th></th>\n",
       "    </tr>\n",
       "  </thead>\n",
       "  <tbody>\n",
       "    <tr>\n",
       "      <th>1</th>\n",
       "      <td>0</td>\n",
       "      <td>6871</td>\n",
       "    </tr>\n",
       "    <tr>\n",
       "      <th>2</th>\n",
       "      <td>0</td>\n",
       "      <td>6323</td>\n",
       "    </tr>\n",
       "    <tr>\n",
       "      <th>3</th>\n",
       "      <td>0</td>\n",
       "      <td>7705</td>\n",
       "    </tr>\n",
       "    <tr>\n",
       "      <th>4</th>\n",
       "      <td>0</td>\n",
       "      <td>6402</td>\n",
       "    </tr>\n",
       "    <tr>\n",
       "      <th>5</th>\n",
       "      <td>0</td>\n",
       "      <td>7461</td>\n",
       "    </tr>\n",
       "    <tr>\n",
       "      <th>6</th>\n",
       "      <td>0</td>\n",
       "      <td>8293</td>\n",
       "    </tr>\n",
       "    <tr>\n",
       "      <th>7</th>\n",
       "      <td>0</td>\n",
       "      <td>6319</td>\n",
       "    </tr>\n",
       "    <tr>\n",
       "      <th>8</th>\n",
       "      <td>0</td>\n",
       "      <td>5681</td>\n",
       "    </tr>\n",
       "    <tr>\n",
       "      <th>9</th>\n",
       "      <td>7779</td>\n",
       "      <td>0</td>\n",
       "    </tr>\n",
       "    <tr>\n",
       "      <th>10</th>\n",
       "      <td>6751</td>\n",
       "      <td>0</td>\n",
       "    </tr>\n",
       "    <tr>\n",
       "      <th>11</th>\n",
       "      <td>7072</td>\n",
       "      <td>0</td>\n",
       "    </tr>\n",
       "    <tr>\n",
       "      <th>12</th>\n",
       "      <td>7891</td>\n",
       "      <td>0</td>\n",
       "    </tr>\n",
       "  </tbody>\n",
       "</table>\n",
       "</div>"
      ],
      "text/plain": [
       "sale_year   2016  2017\n",
       "sale_month            \n",
       "1              0  6871\n",
       "2              0  6323\n",
       "3              0  7705\n",
       "4              0  6402\n",
       "5              0  7461\n",
       "6              0  8293\n",
       "7              0  6319\n",
       "8              0  5681\n",
       "9           7779     0\n",
       "10          6751     0\n",
       "11          7072     0\n",
       "12          7891     0"
      ]
     },
     "execution_count": 9,
     "metadata": {},
     "output_type": "execute_result"
    }
   ],
   "source": [
    "df['sale_year'] = pd.DatetimeIndex(df['SALE DATE']).year.astype(\"category\")\n",
    "df['sale_month'] = pd.DatetimeIndex(df['SALE DATE']).month.astype(\"category\")\n",
    "pd.crosstab(df['sale_month'],df['sale_year'])"
   ]
  },
  {
   "cell_type": "code",
   "execution_count": 10,
   "metadata": {},
   "outputs": [],
   "source": [
    "# constructing the numerical variables:\n",
    "numeric = [\"RESIDENTIAL UNITS\",\"COMMERCIAL UNITS\",\"TOTAL UNITS\", \"LAND SQUARE FEET\" , \"GROSS SQUARE FEET\",\"SALE PRICE\" ]\n",
    "\n",
    "for col in numeric: \n",
    "    df[col] = pd.to_numeric(df[col], errors='coerce') # coercing errors to NAs"
   ]
  },
  {
   "cell_type": "code",
   "execution_count": 11,
   "metadata": {},
   "outputs": [],
   "source": [
    "# constructing the categorical variables:\n",
    "categorical = [\"BOROUGH\",\"NEIGHBORHOOD\",'BUILDING CLASS CATEGORY', 'TAX CLASS AT PRESENT', 'BUILDING CLASS AT PRESENT','ZIP CODE', 'YEAR BUILT', 'BUILDING CLASS AT TIME OF SALE', 'TAX CLASS AT TIME OF SALE']\n",
    "\n",
    "for col in categorical: \n",
    "    df[col] = df[col].astype(\"category\")"
   ]
  },
  {
   "cell_type": "code",
   "execution_count": 12,
   "metadata": {},
   "outputs": [
    {
     "name": "stdout",
     "output_type": "stream",
     "text": [
      "<class 'pandas.core.frame.DataFrame'>\n",
      "RangeIndex: 84548 entries, 0 to 84547\n",
      "Data columns (total 23 columns):\n",
      "BOROUGH                           84548 non-null category\n",
      "NEIGHBORHOOD                      84548 non-null category\n",
      "BUILDING CLASS CATEGORY           84548 non-null category\n",
      "TAX CLASS AT PRESENT              84548 non-null category\n",
      "BLOCK                             84548 non-null int64\n",
      "LOT                               84548 non-null int64\n",
      "EASE-MENT                         84548 non-null object\n",
      "BUILDING CLASS AT PRESENT         84548 non-null category\n",
      "ADDRESS                           84548 non-null object\n",
      "APARTMENT NUMBER                  84548 non-null object\n",
      "ZIP CODE                          84548 non-null category\n",
      "RESIDENTIAL UNITS                 84548 non-null int64\n",
      "COMMERCIAL UNITS                  84548 non-null int64\n",
      "TOTAL UNITS                       84548 non-null int64\n",
      "LAND SQUARE FEET                  58296 non-null float64\n",
      "GROSS SQUARE FEET                 56936 non-null float64\n",
      "YEAR BUILT                        84548 non-null category\n",
      "TAX CLASS AT TIME OF SALE         84548 non-null category\n",
      "BUILDING CLASS AT TIME OF SALE    84548 non-null category\n",
      "SALE PRICE                        69987 non-null float64\n",
      "SALE DATE                         84548 non-null datetime64[ns]\n",
      "sale_year                         84548 non-null category\n",
      "sale_month                        84548 non-null category\n",
      "dtypes: category(11), datetime64[ns](1), float64(3), int64(5), object(3)\n",
      "memory usage: 9.1+ MB\n"
     ]
    }
   ],
   "source": [
    "df.info()"
   ]
  },
  {
   "cell_type": "code",
   "execution_count": 13,
   "metadata": {},
   "outputs": [
    {
     "data": {
      "text/plain": [
       "BOROUGH                               0\n",
       "NEIGHBORHOOD                          0\n",
       "BUILDING CLASS CATEGORY               0\n",
       "TAX CLASS AT PRESENT                  0\n",
       "BLOCK                                 0\n",
       "LOT                                   0\n",
       "EASE-MENT                             0\n",
       "BUILDING CLASS AT PRESENT             0\n",
       "ADDRESS                               0\n",
       "APARTMENT NUMBER                      0\n",
       "ZIP CODE                              0\n",
       "RESIDENTIAL UNITS                     0\n",
       "COMMERCIAL UNITS                      0\n",
       "TOTAL UNITS                           0\n",
       "LAND SQUARE FEET                  26252\n",
       "GROSS SQUARE FEET                 27612\n",
       "YEAR BUILT                            0\n",
       "TAX CLASS AT TIME OF SALE             0\n",
       "BUILDING CLASS AT TIME OF SALE        0\n",
       "SALE PRICE                        14561\n",
       "SALE DATE                             0\n",
       "sale_year                             0\n",
       "sale_month                            0\n",
       "dtype: int64"
      ]
     },
     "execution_count": 13,
     "metadata": {},
     "output_type": "execute_result"
    }
   ],
   "source": [
    "df.isna().sum()"
   ]
  },
  {
   "cell_type": "markdown",
   "metadata": {},
   "source": [
    "**So far, we have identified the NA values. But what about the black cells?** \n",
    "\n",
    "Let's see if there are any **black**  cells?"
   ]
  },
  {
   "cell_type": "code",
   "execution_count": 14,
   "metadata": {},
   "outputs": [],
   "source": [
    "df.replace(' ',np.nan, inplace=True)"
   ]
  },
  {
   "cell_type": "code",
   "execution_count": 15,
   "metadata": {},
   "outputs": [
    {
     "data": {
      "text/plain": [
       "BOROUGH                               0\n",
       "NEIGHBORHOOD                          0\n",
       "BUILDING CLASS CATEGORY               0\n",
       "TAX CLASS AT PRESENT                738\n",
       "BLOCK                                 0\n",
       "LOT                                   0\n",
       "EASE-MENT                         84548\n",
       "BUILDING CLASS AT PRESENT           738\n",
       "ADDRESS                               0\n",
       "APARTMENT NUMBER                  65496\n",
       "ZIP CODE                              0\n",
       "RESIDENTIAL UNITS                     0\n",
       "COMMERCIAL UNITS                      0\n",
       "TOTAL UNITS                           0\n",
       "LAND SQUARE FEET                  26252\n",
       "GROSS SQUARE FEET                 27612\n",
       "YEAR BUILT                            0\n",
       "TAX CLASS AT TIME OF SALE             0\n",
       "BUILDING CLASS AT TIME OF SALE        0\n",
       "SALE PRICE                        14561\n",
       "SALE DATE                             0\n",
       "sale_year                             0\n",
       "sale_month                            0\n",
       "dtype: int64"
      ]
     },
     "execution_count": 15,
     "metadata": {},
     "output_type": "execute_result"
    }
   ],
   "source": [
    "df.isna().sum() "
   ]
  },
  {
   "cell_type": "code",
   "execution_count": 16,
   "metadata": {},
   "outputs": [
    {
     "data": {
      "text/plain": [
       "BOROUGH                             0.000000\n",
       "NEIGHBORHOOD                        0.000000\n",
       "BUILDING CLASS CATEGORY             0.000000\n",
       "TAX CLASS AT PRESENT                0.872877\n",
       "BLOCK                               0.000000\n",
       "LOT                                 0.000000\n",
       "EASE-MENT                         100.000000\n",
       "BUILDING CLASS AT PRESENT           0.872877\n",
       "ADDRESS                             0.000000\n",
       "APARTMENT NUMBER                   77.466055\n",
       "ZIP CODE                            0.000000\n",
       "RESIDENTIAL UNITS                   0.000000\n",
       "COMMERCIAL UNITS                    0.000000\n",
       "TOTAL UNITS                         0.000000\n",
       "LAND SQUARE FEET                   31.049818\n",
       "GROSS SQUARE FEET                  32.658372\n",
       "YEAR BUILT                          0.000000\n",
       "TAX CLASS AT TIME OF SALE           0.000000\n",
       "BUILDING CLASS AT TIME OF SALE      0.000000\n",
       "SALE PRICE                         17.222170\n",
       "SALE DATE                           0.000000\n",
       "sale_year                           0.000000\n",
       "sale_month                          0.000000\n",
       "dtype: float64"
      ]
     },
     "execution_count": 16,
     "metadata": {},
     "output_type": "execute_result"
    }
   ],
   "source": [
    "df.isna().sum()/len(df) *100"
   ]
  },
  {
   "cell_type": "code",
   "execution_count": 17,
   "metadata": {},
   "outputs": [
    {
     "data": {
      "text/plain": [
       "<matplotlib.axes._subplots.AxesSubplot at 0x1da1e6b6b70>"
      ]
     },
     "execution_count": 17,
     "metadata": {},
     "output_type": "execute_result"
    },
    {
     "data": {
      "image/png": "[encoded data removed]",
      "text/plain": [
       "<Figure size 720x504 with 1 Axes>"
      ]
     },
     "metadata": {
      "needs_background": "light"
     },
     "output_type": "display_data"
    }
   ],
   "source": [
    "plt.figure(figsize=(10,7))\n",
    "sns.heatmap(df.isnull(),yticklabels=False,cbar=False,cmap='viridis')"
   ]
  },
  {
   "cell_type": "markdown",
   "metadata": {},
   "source": [
    "### Now let's get rid of the columns with many NAs. "
   ]
  },
  {
   "cell_type": "code",
   "execution_count": 18,
   "metadata": {},
   "outputs": [],
   "source": [
    "df.drop([\"EASE-MENT\",\"APARTMENT NUMBER\"], axis=1, inplace=True)"
   ]
  },
  {
   "cell_type": "code",
   "execution_count": 19,
   "metadata": {},
   "outputs": [],
   "source": [
    "# What should we do with the LAND and GROSS sqrf? there are more than 30% of missing data here! One way is to get rid of all the NAs. \n",
    "# but this is not the best solution. What is your solution? \n",
    "\n",
    "df=df.dropna() "
   ]
  },
  {
   "cell_type": "code",
   "execution_count": 20,
   "metadata": {},
   "outputs": [
    {
     "data": {
      "text/plain": [
       "BOROUGH                           0\n",
       "NEIGHBORHOOD                      0\n",
       "BUILDING CLASS CATEGORY           0\n",
       "TAX CLASS AT PRESENT              0\n",
       "BLOCK                             0\n",
       "LOT                               0\n",
       "BUILDING CLASS AT PRESENT         0\n",
       "ADDRESS                           0\n",
       "ZIP CODE                          0\n",
       "RESIDENTIAL UNITS                 0\n",
       "COMMERCIAL UNITS                  0\n",
       "TOTAL UNITS                       0\n",
       "LAND SQUARE FEET                  0\n",
       "GROSS SQUARE FEET                 0\n",
       "YEAR BUILT                        0\n",
       "TAX CLASS AT TIME OF SALE         0\n",
       "BUILDING CLASS AT TIME OF SALE    0\n",
       "SALE PRICE                        0\n",
       "SALE DATE                         0\n",
       "sale_year                         0\n",
       "sale_month                        0\n",
       "dtype: int64"
      ]
     },
     "execution_count": 20,
     "metadata": {},
     "output_type": "execute_result"
    }
   ],
   "source": [
    "df.isna().sum()"
   ]
  },
  {
   "cell_type": "code",
   "execution_count": 21,
   "metadata": {},
   "outputs": [
    {
     "data": {
      "text/plain": [
       "348"
      ]
     },
     "execution_count": 21,
     "metadata": {},
     "output_type": "execute_result"
    }
   ],
   "source": [
    "# finally check if there is any duplicated value:\n",
    "sum(df.duplicated())"
   ]
  },
  {
   "cell_type": "code",
   "execution_count": 22,
   "metadata": {},
   "outputs": [
    {
     "name": "stderr",
     "output_type": "stream",
     "text": [
      "C:\\Users\\jahan\\Anaconda3\\lib\\site-packages\\ipykernel_launcher.py:1: SettingWithCopyWarning: \n",
      "A value is trying to be set on a copy of a slice from a DataFrame\n",
      "\n",
      "See the caveats in the documentation: http://pandas.pydata.org/pandas-docs/stable/indexing.html#indexing-view-versus-copy\n",
      "  \"\"\"Entry point for launching an IPython kernel.\n"
     ]
    }
   ],
   "source": [
    "df.drop_duplicates(inplace=True)"
   ]
  },
  {
   "cell_type": "markdown",
   "metadata": {},
   "source": [
    "### Exercise: Why do we have to remove the duplicated observations? What will happen to R-square? what about the significancy of coefficients?"
   ]
  },
  {
   "cell_type": "markdown",
   "metadata": {},
   "source": [
    "### Looking for strange observations: \n",
    "\n",
    "Trick: First lets try to convert all the variables into numeric and look at the description. \n"
   ]
  },
  {
   "cell_type": "code",
   "execution_count": 23,
   "metadata": {},
   "outputs": [],
   "source": [
    "temp = df.copy()"
   ]
  },
  {
   "cell_type": "code",
   "execution_count": 24,
   "metadata": {},
   "outputs": [],
   "source": [
    "for cols in temp.columns:\n",
    "    temp[cols]=pd.to_numeric(temp[cols], errors='coerce') "
   ]
  },
  {
   "cell_type": "code",
   "execution_count": 25,
   "metadata": {},
   "outputs": [
    {
     "name": "stdout",
     "output_type": "stream",
     "text": [
      "<class 'pandas.core.frame.DataFrame'>\n",
      "Int64Index: 47544 entries, 0 to 84547\n",
      "Data columns (total 21 columns):\n",
      "BOROUGH                           47544 non-null int64\n",
      "NEIGHBORHOOD                      0 non-null float64\n",
      "BUILDING CLASS CATEGORY           0 non-null float64\n",
      "TAX CLASS AT PRESENT              42401 non-null float64\n",
      "BLOCK                             47544 non-null int64\n",
      "LOT                               47544 non-null int64\n",
      "BUILDING CLASS AT PRESENT         0 non-null float64\n",
      "ADDRESS                           0 non-null float64\n",
      "ZIP CODE                          47544 non-null int64\n",
      "RESIDENTIAL UNITS                 47544 non-null int64\n",
      "COMMERCIAL UNITS                  47544 non-null int64\n",
      "TOTAL UNITS                       47544 non-null int64\n",
      "LAND SQUARE FEET                  47544 non-null float64\n",
      "GROSS SQUARE FEET                 47544 non-null float64\n",
      "YEAR BUILT                        47544 non-null int64\n",
      "TAX CLASS AT TIME OF SALE         47544 non-null int64\n",
      "BUILDING CLASS AT TIME OF SALE    0 non-null float64\n",
      "SALE PRICE                        47544 non-null float64\n",
      "SALE DATE                         47544 non-null int64\n",
      "sale_year                         47544 non-null int64\n",
      "sale_month                        47544 non-null int64\n",
      "dtypes: float64(9), int64(12)\n",
      "memory usage: 8.0 MB\n"
     ]
    }
   ],
   "source": [
    "temp.info()"
   ]
  },
  {
   "cell_type": "code",
   "execution_count": 26,
   "metadata": {},
   "outputs": [
    {
     "data": {
      "text/html": [
       "<div>\n",
       "<style scoped>\n",
       "    .dataframe tbody tr th:only-of-type {\n",
       "        vertical-align: middle;\n",
       "    }\n",
       "\n",
       "    .dataframe tbody tr th {\n",
       "        vertical-align: top;\n",
       "    }\n",
       "\n",
       "    .dataframe thead th {\n",
       "        text-align: right;\n",
       "    }\n",
       "</style>\n",
       "<table border=\"1\" class=\"dataframe\">\n",
       "  <thead>\n",
       "    <tr style=\"text-align: right;\">\n",
       "      <th></th>\n",
       "      <th>count</th>\n",
       "      <th>mean</th>\n",
       "      <th>std</th>\n",
       "      <th>min</th>\n",
       "      <th>25%</th>\n",
       "      <th>50%</th>\n",
       "      <th>75%</th>\n",
       "      <th>max</th>\n",
       "    </tr>\n",
       "  </thead>\n",
       "  <tbody>\n",
       "    <tr>\n",
       "      <th>BOROUGH</th>\n",
       "      <td>47544.0</td>\n",
       "      <td>3.256836e+00</td>\n",
       "      <td>9.049520e-01</td>\n",
       "      <td>1.000000e+00</td>\n",
       "      <td>3.000000e+00</td>\n",
       "      <td>3.000000e+00</td>\n",
       "      <td>4.000000e+00</td>\n",
       "      <td>5.000000e+00</td>\n",
       "    </tr>\n",
       "    <tr>\n",
       "      <th>NEIGHBORHOOD</th>\n",
       "      <td>0.0</td>\n",
       "      <td>NaN</td>\n",
       "      <td>NaN</td>\n",
       "      <td>NaN</td>\n",
       "      <td>NaN</td>\n",
       "      <td>NaN</td>\n",
       "      <td>NaN</td>\n",
       "      <td>NaN</td>\n",
       "    </tr>\n",
       "    <tr>\n",
       "      <th>BUILDING CLASS CATEGORY</th>\n",
       "      <td>0.0</td>\n",
       "      <td>NaN</td>\n",
       "      <td>NaN</td>\n",
       "      <td>NaN</td>\n",
       "      <td>NaN</td>\n",
       "      <td>NaN</td>\n",
       "      <td>NaN</td>\n",
       "      <td>NaN</td>\n",
       "    </tr>\n",
       "    <tr>\n",
       "      <th>TAX CLASS AT PRESENT</th>\n",
       "      <td>42401.0</td>\n",
       "      <td>1.428646e+00</td>\n",
       "      <td>8.524710e-01</td>\n",
       "      <td>1.000000e+00</td>\n",
       "      <td>1.000000e+00</td>\n",
       "      <td>1.000000e+00</td>\n",
       "      <td>2.000000e+00</td>\n",
       "      <td>4.000000e+00</td>\n",
       "    </tr>\n",
       "    <tr>\n",
       "      <th>BLOCK</th>\n",
       "      <td>47544.0</td>\n",
       "      <td>4.993789e+03</td>\n",
       "      <td>3.431769e+03</td>\n",
       "      <td>1.000000e+00</td>\n",
       "      <td>2.218000e+03</td>\n",
       "      <td>4.666000e+03</td>\n",
       "      <td>6.983750e+03</td>\n",
       "      <td>1.631900e+04</td>\n",
       "    </tr>\n",
       "    <tr>\n",
       "      <th>LOT</th>\n",
       "      <td>47544.0</td>\n",
       "      <td>2.278511e+02</td>\n",
       "      <td>4.906937e+02</td>\n",
       "      <td>1.000000e+00</td>\n",
       "      <td>2.100000e+01</td>\n",
       "      <td>4.500000e+01</td>\n",
       "      <td>9.000000e+01</td>\n",
       "      <td>9.009000e+03</td>\n",
       "    </tr>\n",
       "    <tr>\n",
       "      <th>BUILDING CLASS AT PRESENT</th>\n",
       "      <td>0.0</td>\n",
       "      <td>NaN</td>\n",
       "      <td>NaN</td>\n",
       "      <td>NaN</td>\n",
       "      <td>NaN</td>\n",
       "      <td>NaN</td>\n",
       "      <td>NaN</td>\n",
       "      <td>NaN</td>\n",
       "    </tr>\n",
       "    <tr>\n",
       "      <th>ADDRESS</th>\n",
       "      <td>0.0</td>\n",
       "      <td>NaN</td>\n",
       "      <td>NaN</td>\n",
       "      <td>NaN</td>\n",
       "      <td>NaN</td>\n",
       "      <td>NaN</td>\n",
       "      <td>NaN</td>\n",
       "      <td>NaN</td>\n",
       "    </tr>\n",
       "    <tr>\n",
       "      <th>ZIP CODE</th>\n",
       "      <td>47544.0</td>\n",
       "      <td>1.098669e+04</td>\n",
       "      <td>8.016274e+02</td>\n",
       "      <td>0.000000e+00</td>\n",
       "      <td>1.047000e+04</td>\n",
       "      <td>1.121700e+04</td>\n",
       "      <td>1.123800e+04</td>\n",
       "      <td>1.169400e+04</td>\n",
       "    </tr>\n",
       "    <tr>\n",
       "      <th>RESIDENTIAL UNITS</th>\n",
       "      <td>47544.0</td>\n",
       "      <td>2.553656e+00</td>\n",
       "      <td>1.723198e+01</td>\n",
       "      <td>0.000000e+00</td>\n",
       "      <td>1.000000e+00</td>\n",
       "      <td>1.000000e+00</td>\n",
       "      <td>2.000000e+00</td>\n",
       "      <td>1.844000e+03</td>\n",
       "    </tr>\n",
       "    <tr>\n",
       "      <th>COMMERCIAL UNITS</th>\n",
       "      <td>47544.0</td>\n",
       "      <td>2.392310e-01</td>\n",
       "      <td>1.088558e+01</td>\n",
       "      <td>0.000000e+00</td>\n",
       "      <td>0.000000e+00</td>\n",
       "      <td>0.000000e+00</td>\n",
       "      <td>0.000000e+00</td>\n",
       "      <td>2.261000e+03</td>\n",
       "    </tr>\n",
       "    <tr>\n",
       "      <th>TOTAL UNITS</th>\n",
       "      <td>47544.0</td>\n",
       "      <td>2.811985e+00</td>\n",
       "      <td>2.050190e+01</td>\n",
       "      <td>0.000000e+00</td>\n",
       "      <td>1.000000e+00</td>\n",
       "      <td>1.000000e+00</td>\n",
       "      <td>2.000000e+00</td>\n",
       "      <td>2.261000e+03</td>\n",
       "    </tr>\n",
       "    <tr>\n",
       "      <th>LAND SQUARE FEET</th>\n",
       "      <td>47544.0</td>\n",
       "      <td>3.295120e+03</td>\n",
       "      <td>3.066143e+04</td>\n",
       "      <td>0.000000e+00</td>\n",
       "      <td>1.462750e+03</td>\n",
       "      <td>2.150000e+03</td>\n",
       "      <td>3.076000e+03</td>\n",
       "      <td>4.228300e+06</td>\n",
       "    </tr>\n",
       "    <tr>\n",
       "      <th>GROSS SQUARE FEET</th>\n",
       "      <td>47544.0</td>\n",
       "      <td>3.551979e+03</td>\n",
       "      <td>2.931144e+04</td>\n",
       "      <td>0.000000e+00</td>\n",
       "      <td>8.760000e+02</td>\n",
       "      <td>1.628000e+03</td>\n",
       "      <td>2.520000e+03</td>\n",
       "      <td>3.750565e+06</td>\n",
       "    </tr>\n",
       "    <tr>\n",
       "      <th>YEAR BUILT</th>\n",
       "      <td>47544.0</td>\n",
       "      <td>1.841982e+03</td>\n",
       "      <td>4.371478e+02</td>\n",
       "      <td>0.000000e+00</td>\n",
       "      <td>1.920000e+03</td>\n",
       "      <td>1.931000e+03</td>\n",
       "      <td>1.961000e+03</td>\n",
       "      <td>2.017000e+03</td>\n",
       "    </tr>\n",
       "    <tr>\n",
       "      <th>TAX CLASS AT TIME OF SALE</th>\n",
       "      <td>47544.0</td>\n",
       "      <td>1.465274e+00</td>\n",
       "      <td>8.243077e-01</td>\n",
       "      <td>1.000000e+00</td>\n",
       "      <td>1.000000e+00</td>\n",
       "      <td>1.000000e+00</td>\n",
       "      <td>2.000000e+00</td>\n",
       "      <td>4.000000e+00</td>\n",
       "    </tr>\n",
       "    <tr>\n",
       "      <th>BUILDING CLASS AT TIME OF SALE</th>\n",
       "      <td>0.0</td>\n",
       "      <td>NaN</td>\n",
       "      <td>NaN</td>\n",
       "      <td>NaN</td>\n",
       "      <td>NaN</td>\n",
       "      <td>NaN</td>\n",
       "      <td>NaN</td>\n",
       "      <td>NaN</td>\n",
       "    </tr>\n",
       "    <tr>\n",
       "      <th>SALE PRICE</th>\n",
       "      <td>47544.0</td>\n",
       "      <td>1.160690e+06</td>\n",
       "      <td>1.349207e+07</td>\n",
       "      <td>0.000000e+00</td>\n",
       "      <td>1.000000e+05</td>\n",
       "      <td>4.830000e+05</td>\n",
       "      <td>8.300000e+05</td>\n",
       "      <td>2.210000e+09</td>\n",
       "    </tr>\n",
       "    <tr>\n",
       "      <th>SALE DATE</th>\n",
       "      <td>47544.0</td>\n",
       "      <td>1.487965e+18</td>\n",
       "      <td>8.928912e+15</td>\n",
       "      <td>1.472688e+18</td>\n",
       "      <td>1.480378e+18</td>\n",
       "      <td>1.487894e+18</td>\n",
       "      <td>1.495670e+18</td>\n",
       "      <td>1.504138e+18</td>\n",
       "    </tr>\n",
       "    <tr>\n",
       "      <th>sale_year</th>\n",
       "      <td>47544.0</td>\n",
       "      <td>2.016644e+03</td>\n",
       "      <td>4.787591e-01</td>\n",
       "      <td>2.016000e+03</td>\n",
       "      <td>2.016000e+03</td>\n",
       "      <td>2.017000e+03</td>\n",
       "      <td>2.017000e+03</td>\n",
       "      <td>2.017000e+03</td>\n",
       "    </tr>\n",
       "    <tr>\n",
       "      <th>sale_month</th>\n",
       "      <td>47544.0</td>\n",
       "      <td>6.590127e+00</td>\n",
       "      <td>3.488798e+00</td>\n",
       "      <td>1.000000e+00</td>\n",
       "      <td>4.000000e+00</td>\n",
       "      <td>6.000000e+00</td>\n",
       "      <td>1.000000e+01</td>\n",
       "      <td>1.200000e+01</td>\n",
       "    </tr>\n",
       "  </tbody>\n",
       "</table>\n",
       "</div>"
      ],
      "text/plain": [
       "                                  count          mean           std  \\\n",
       "BOROUGH                         47544.0  3.256836e+00  9.049520e-01   \n",
       "NEIGHBORHOOD                        0.0           NaN           NaN   \n",
       "BUILDING CLASS CATEGORY             0.0           NaN           NaN   \n",
       "TAX CLASS AT PRESENT            42401.0  1.428646e+00  8.524710e-01   \n",
       "BLOCK                           47544.0  4.993789e+03  3.431769e+03   \n",
       "LOT                             47544.0  2.278511e+02  4.906937e+02   \n",
       "BUILDING CLASS AT PRESENT           0.0           NaN           NaN   \n",
       "ADDRESS                             0.0           NaN           NaN   \n",
       "ZIP CODE                        47544.0  1.098669e+04  8.016274e+02   \n",
       "RESIDENTIAL UNITS               47544.0  2.553656e+00  1.723198e+01   \n",
       "COMMERCIAL UNITS                47544.0  2.392310e-01  1.088558e+01   \n",
       "TOTAL UNITS                     47544.0  2.811985e+00  2.050190e+01   \n",
       "LAND SQUARE FEET                47544.0  3.295120e+03  3.066143e+04   \n",
       "GROSS SQUARE FEET               47544.0  3.551979e+03  2.931144e+04   \n",
       "YEAR BUILT                      47544.0  1.841982e+03  4.371478e+02   \n",
       "TAX CLASS AT TIME OF SALE       47544.0  1.465274e+00  8.243077e-01   \n",
       "BUILDING CLASS AT TIME OF SALE      0.0           NaN           NaN   \n",
       "SALE PRICE                      47544.0  1.160690e+06  1.349207e+07   \n",
       "SALE DATE                       47544.0  1.487965e+18  8.928912e+15   \n",
       "sale_year                       47544.0  2.016644e+03  4.787591e-01   \n",
       "sale_month                      47544.0  6.590127e+00  3.488798e+00   \n",
       "\n",
       "                                         min           25%           50%  \\\n",
       "BOROUGH                         1.000000e+00  3.000000e+00  3.000000e+00   \n",
       "NEIGHBORHOOD                             NaN           NaN           NaN   \n",
       "BUILDING CLASS CATEGORY                  NaN           NaN           NaN   \n",
       "TAX CLASS AT PRESENT            1.000000e+00  1.000000e+00  1.000000e+00   \n",
       "BLOCK                           1.000000e+00  2.218000e+03  4.666000e+03   \n",
       "LOT                             1.000000e+00  2.100000e+01  4.500000e+01   \n",
       "BUILDING CLASS AT PRESENT                NaN           NaN           NaN   \n",
       "ADDRESS                                  NaN           NaN           NaN   \n",
       "ZIP CODE                        0.000000e+00  1.047000e+04  1.121700e+04   \n",
       "RESIDENTIAL UNITS               0.000000e+00  1.000000e+00  1.000000e+00   \n",
       "COMMERCIAL UNITS                0.000000e+00  0.000000e+00  0.000000e+00   \n",
       "TOTAL UNITS                     0.000000e+00  1.000000e+00  1.000000e+00   \n",
       "LAND SQUARE FEET                0.000000e+00  1.462750e+03  2.150000e+03   \n",
       "GROSS SQUARE FEET               0.000000e+00  8.760000e+02  1.628000e+03   \n",
       "YEAR BUILT                      0.000000e+00  1.920000e+03  1.931000e+03   \n",
       "TAX CLASS AT TIME OF SALE       1.000000e+00  1.000000e+00  1.000000e+00   \n",
       "BUILDING CLASS AT TIME OF SALE           NaN           NaN           NaN   \n",
       "SALE PRICE                      0.000000e+00  1.000000e+05  4.830000e+05   \n",
       "SALE DATE                       1.472688e+18  1.480378e+18  1.487894e+18   \n",
       "sale_year                       2.016000e+03  2.016000e+03  2.017000e+03   \n",
       "sale_month                      1.000000e+00  4.000000e+00  6.000000e+00   \n",
       "\n",
       "                                         75%           max  \n",
       "BOROUGH                         4.000000e+00  5.000000e+00  \n",
       "NEIGHBORHOOD                             NaN           NaN  \n",
       "BUILDING CLASS CATEGORY                  NaN           NaN  \n",
       "TAX CLASS AT PRESENT            2.000000e+00  4.000000e+00  \n",
       "BLOCK                           6.983750e+03  1.631900e+04  \n",
       "LOT                             9.000000e+01  9.009000e+03  \n",
       "BUILDING CLASS AT PRESENT                NaN           NaN  \n",
       "ADDRESS                                  NaN           NaN  \n",
       "ZIP CODE                        1.123800e+04  1.169400e+04  \n",
       "RESIDENTIAL UNITS               2.000000e+00  1.844000e+03  \n",
       "COMMERCIAL UNITS                0.000000e+00  2.261000e+03  \n",
       "TOTAL UNITS                     2.000000e+00  2.261000e+03  \n",
       "LAND SQUARE FEET                3.076000e+03  4.228300e+06  \n",
       "GROSS SQUARE FEET               2.520000e+03  3.750565e+06  \n",
       "YEAR BUILT                      1.961000e+03  2.017000e+03  \n",
       "TAX CLASS AT TIME OF SALE       2.000000e+00  4.000000e+00  \n",
       "BUILDING CLASS AT TIME OF SALE           NaN           NaN  \n",
       "SALE PRICE                      8.300000e+05  2.210000e+09  \n",
       "SALE DATE                       1.495670e+18  1.504138e+18  \n",
       "sale_year                       2.017000e+03  2.017000e+03  \n",
       "sale_month                      1.000000e+01  1.200000e+01  "
      ]
     },
     "execution_count": 26,
     "metadata": {},
     "output_type": "execute_result"
    }
   ],
   "source": [
    "temp.describe().T"
   ]
  },
  {
   "cell_type": "markdown",
   "metadata": {},
   "source": [
    "It seems that some of the numerical variables has been assigned some non-sense values. For example the min of **sale price, year built, total units** are 0! Does this make sense? \n",
    "\n",
    "\n",
    "Let's explore some of these variables in more details."
   ]
  },
  {
   "cell_type": "markdown",
   "metadata": {},
   "source": [
    "## Data visualization"
   ]
  },
  {
   "cell_type": "markdown",
   "metadata": {},
   "source": [
    "### Sale price:\n",
    "\n",
    "It is a good idea to start with the target variable! sometimes you end up dropping many more observations!"
   ]
  },
  {
   "cell_type": "code",
   "execution_count": 27,
   "metadata": {},
   "outputs": [
    {
     "data": {
      "text/plain": [
       "0.24310112737674575"
      ]
     },
     "execution_count": 27,
     "metadata": {},
     "output_type": "execute_result"
    }
   ],
   "source": [
    "df[(df['SALE PRICE']<10000) | (df['SALE PRICE']>10000000)]['SALE PRICE'].count() /len(df)"
   ]
  },
  {
   "cell_type": "markdown",
   "metadata": {},
   "source": [
    "Ooouch! 25% of the sale prices are either less than 10,000 or greater than $10,000,000. We have to drop all these observations from the data"
   ]
  },
  {
   "cell_type": "code",
   "execution_count": 28,
   "metadata": {},
   "outputs": [
    {
     "data": {
      "text/plain": [
       "count    3.592500e+04\n",
       "mean     8.781402e+05\n",
       "std      1.033943e+06\n",
       "min      1.000100e+04\n",
       "25%      4.000000e+05\n",
       "50%      6.100000e+05\n",
       "75%      9.418810e+05\n",
       "max      9.999999e+06\n",
       "Name: SALE PRICE, dtype: float64"
      ]
     },
     "execution_count": 28,
     "metadata": {},
     "output_type": "execute_result"
    }
   ],
   "source": [
    "df2= df[(df['SALE PRICE']>10000) & (df['SALE PRICE']<10000000)].copy()\n",
    "df2['SALE PRICE'].describe()"
   ]
  },
  {
   "cell_type": "code",
   "execution_count": 29,
   "metadata": {},
   "outputs": [
    {
     "data": {
      "image/png": "[encoded data removed]",
      "text/plain": [
       "<Figure size 864x432 with 1 Axes>"
      ]
     },
     "metadata": {
      "needs_background": "light"
     },
     "output_type": "display_data"
    }
   ],
   "source": [
    "plt.figure(figsize=(12,6))\n",
    "sns.distplot(df2['SALE PRICE'], kde=True, bins=50, rug=True)\n",
    "plt.show()"
   ]
  },
  {
   "cell_type": "markdown",
   "metadata": {},
   "source": [
    "It seems that we can safely treat any sale price > 4,000,000 as an outlier. So let's remove them as well.  "
   ]
  },
  {
   "cell_type": "code",
   "execution_count": 30,
   "metadata": {},
   "outputs": [
    {
     "data": {
      "image/png": "[encoded data removed]",
      "text/plain": [
       "<Figure size 864x432 with 1 Axes>"
      ]
     },
     "metadata": {
      "needs_background": "light"
     },
     "output_type": "display_data"
    }
   ],
   "source": [
    "df2= df2[(df2['SALE PRICE']<4000000)]\n",
    "plt.figure(figsize=(12,6))\n",
    "sns.distplot(df2['SALE PRICE'], kde=True, bins=50, rug=True)\n",
    "plt.show()\n"
   ]
  },
  {
   "cell_type": "markdown",
   "metadata": {},
   "source": [
    "### Year built:"
   ]
  },
  {
   "cell_type": "code",
   "execution_count": 31,
   "metadata": {},
   "outputs": [
    {
     "data": {
      "text/plain": [
       "1434"
      ]
     },
     "execution_count": 31,
     "metadata": {},
     "output_type": "execute_result"
    }
   ],
   "source": [
    "df2[df2['YEAR BUILT']==0]['YEAR BUILT'].count()"
   ]
  },
  {
   "cell_type": "code",
   "execution_count": 32,
   "metadata": {},
   "outputs": [
    {
     "data": {
      "image/png": "[encoded data removed]",
      "text/plain": [
       "<Figure size 432x288 with 1 Axes>"
      ]
     },
     "metadata": {
      "needs_background": "light"
     },
     "output_type": "display_data"
    }
   ],
   "source": [
    "df3=df2[df2['YEAR BUILT']!=0].copy()\n",
    "sns.distplot(df3['YEAR BUILT'], bins=50, rug=True)\n",
    "plt.show()"
   ]
  },
  {
   "cell_type": "code",
   "execution_count": 33,
   "metadata": {},
   "outputs": [
    {
     "data": {
      "text/plain": [
       "33662"
      ]
     },
     "execution_count": 33,
     "metadata": {},
     "output_type": "execute_result"
    }
   ],
   "source": [
    "len(df3)"
   ]
  },
  {
   "cell_type": "markdown",
   "metadata": {},
   "source": [
    "#### Total units"
   ]
  },
  {
   "cell_type": "code",
   "execution_count": 34,
   "metadata": {},
   "outputs": [
    {
     "data": {
      "text/plain": [
       "3426"
      ]
     },
     "execution_count": 34,
     "metadata": {},
     "output_type": "execute_result"
    }
   ],
   "source": [
    "df3[df3['TOTAL UNITS']==0]['TOTAL UNITS'].count()"
   ]
  },
  {
   "cell_type": "code",
   "execution_count": 35,
   "metadata": {},
   "outputs": [
    {
     "data": {
      "image/png": "[encoded data removed]",
      "text/plain": [
       "<Figure size 432x288 with 1 Axes>"
      ]
     },
     "metadata": {
      "needs_background": "light"
     },
     "output_type": "display_data"
    }
   ],
   "source": [
    "df4=df3[df3['TOTAL UNITS']!=0].copy()\n",
    "sns.distplot(df4['TOTAL UNITS'], bins=50, rug=True)\n",
    "plt.show()"
   ]
  },
  {
   "cell_type": "code",
   "execution_count": 36,
   "metadata": {},
   "outputs": [
    {
     "data": {
      "text/html": [
       "<div>\n",
       "<style scoped>\n",
       "    .dataframe tbody tr th:only-of-type {\n",
       "        vertical-align: middle;\n",
       "    }\n",
       "\n",
       "    .dataframe tbody tr th {\n",
       "        vertical-align: top;\n",
       "    }\n",
       "\n",
       "    .dataframe thead th {\n",
       "        text-align: right;\n",
       "    }\n",
       "</style>\n",
       "<table border=\"1\" class=\"dataframe\">\n",
       "  <thead>\n",
       "    <tr style=\"text-align: right;\">\n",
       "      <th></th>\n",
       "      <th>count</th>\n",
       "      <th>mean</th>\n",
       "      <th>std</th>\n",
       "      <th>min</th>\n",
       "      <th>25%</th>\n",
       "      <th>50%</th>\n",
       "      <th>75%</th>\n",
       "      <th>max</th>\n",
       "    </tr>\n",
       "  </thead>\n",
       "  <tbody>\n",
       "    <tr>\n",
       "      <th>BLOCK</th>\n",
       "      <td>30236.0</td>\n",
       "      <td>5418.821835</td>\n",
       "      <td>3753.775464</td>\n",
       "      <td>1.0</td>\n",
       "      <td>2395.0</td>\n",
       "      <td>4836.0</td>\n",
       "      <td>7677.0</td>\n",
       "      <td>16319.0</td>\n",
       "    </tr>\n",
       "    <tr>\n",
       "      <th>LOT</th>\n",
       "      <td>30236.0</td>\n",
       "      <td>185.704987</td>\n",
       "      <td>384.518819</td>\n",
       "      <td>1.0</td>\n",
       "      <td>22.0</td>\n",
       "      <td>44.0</td>\n",
       "      <td>83.0</td>\n",
       "      <td>3597.0</td>\n",
       "    </tr>\n",
       "    <tr>\n",
       "      <th>RESIDENTIAL UNITS</th>\n",
       "      <td>30236.0</td>\n",
       "      <td>1.970532</td>\n",
       "      <td>12.586963</td>\n",
       "      <td>0.0</td>\n",
       "      <td>1.0</td>\n",
       "      <td>1.0</td>\n",
       "      <td>2.0</td>\n",
       "      <td>1844.0</td>\n",
       "    </tr>\n",
       "    <tr>\n",
       "      <th>COMMERCIAL UNITS</th>\n",
       "      <td>30236.0</td>\n",
       "      <td>0.173039</td>\n",
       "      <td>13.034598</td>\n",
       "      <td>0.0</td>\n",
       "      <td>0.0</td>\n",
       "      <td>0.0</td>\n",
       "      <td>0.0</td>\n",
       "      <td>2261.0</td>\n",
       "    </tr>\n",
       "    <tr>\n",
       "      <th>TOTAL UNITS</th>\n",
       "      <td>30236.0</td>\n",
       "      <td>2.147804</td>\n",
       "      <td>18.198705</td>\n",
       "      <td>1.0</td>\n",
       "      <td>1.0</td>\n",
       "      <td>1.0</td>\n",
       "      <td>2.0</td>\n",
       "      <td>2261.0</td>\n",
       "    </tr>\n",
       "    <tr>\n",
       "      <th>LAND SQUARE FEET</th>\n",
       "      <td>30236.0</td>\n",
       "      <td>3133.582088</td>\n",
       "      <td>27966.319284</td>\n",
       "      <td>0.0</td>\n",
       "      <td>1816.5</td>\n",
       "      <td>2417.0</td>\n",
       "      <td>3500.0</td>\n",
       "      <td>4228300.0</td>\n",
       "    </tr>\n",
       "    <tr>\n",
       "      <th>GROSS SQUARE FEET</th>\n",
       "      <td>30236.0</td>\n",
       "      <td>2440.363276</td>\n",
       "      <td>23800.244758</td>\n",
       "      <td>0.0</td>\n",
       "      <td>1208.0</td>\n",
       "      <td>1680.0</td>\n",
       "      <td>2392.0</td>\n",
       "      <td>3750565.0</td>\n",
       "    </tr>\n",
       "    <tr>\n",
       "      <th>SALE PRICE</th>\n",
       "      <td>30236.0</td>\n",
       "      <td>793820.011146</td>\n",
       "      <td>594725.186839</td>\n",
       "      <td>10001.0</td>\n",
       "      <td>436000.0</td>\n",
       "      <td>630000.0</td>\n",
       "      <td>940000.0</td>\n",
       "      <td>3995000.0</td>\n",
       "    </tr>\n",
       "  </tbody>\n",
       "</table>\n",
       "</div>"
      ],
      "text/plain": [
       "                     count           mean            std      min       25%  \\\n",
       "BLOCK              30236.0    5418.821835    3753.775464      1.0    2395.0   \n",
       "LOT                30236.0     185.704987     384.518819      1.0      22.0   \n",
       "RESIDENTIAL UNITS  30236.0       1.970532      12.586963      0.0       1.0   \n",
       "COMMERCIAL UNITS   30236.0       0.173039      13.034598      0.0       0.0   \n",
       "TOTAL UNITS        30236.0       2.147804      18.198705      1.0       1.0   \n",
       "LAND SQUARE FEET   30236.0    3133.582088   27966.319284      0.0    1816.5   \n",
       "GROSS SQUARE FEET  30236.0    2440.363276   23800.244758      0.0    1208.0   \n",
       "SALE PRICE         30236.0  793820.011146  594725.186839  10001.0  436000.0   \n",
       "\n",
       "                        50%       75%        max  \n",
       "BLOCK                4836.0    7677.0    16319.0  \n",
       "LOT                    44.0      83.0     3597.0  \n",
       "RESIDENTIAL UNITS       1.0       2.0     1844.0  \n",
       "COMMERCIAL UNITS        0.0       0.0     2261.0  \n",
       "TOTAL UNITS             1.0       2.0     2261.0  \n",
       "LAND SQUARE FEET     2417.0    3500.0  4228300.0  \n",
       "GROSS SQUARE FEET    1680.0    2392.0  3750565.0  \n",
       "SALE PRICE         630000.0  940000.0  3995000.0  "
      ]
     },
     "execution_count": 36,
     "metadata": {},
     "output_type": "execute_result"
    }
   ],
   "source": [
    "df4.describe().T"
   ]
  },
  {
   "cell_type": "code",
   "execution_count": 37,
   "metadata": {},
   "outputs": [
    {
     "data": {
      "text/plain": [
       "30236"
      ]
     },
     "execution_count": 37,
     "metadata": {},
     "output_type": "execute_result"
    }
   ],
   "source": [
    "len(df4)"
   ]
  },
  {
   "cell_type": "markdown",
   "metadata": {},
   "source": [
    "## Finalizing the data set"
   ]
  },
  {
   "cell_type": "code",
   "execution_count": 38,
   "metadata": {},
   "outputs": [
    {
     "name": "stdout",
     "output_type": "stream",
     "text": [
      "<class 'pandas.core.frame.DataFrame'>\n",
      "Int64Index: 30236 entries, 3 to 84547\n",
      "Data columns (total 21 columns):\n",
      "BOROUGH                           30236 non-null category\n",
      "NEIGHBORHOOD                      30236 non-null category\n",
      "BUILDING CLASS CATEGORY           30236 non-null category\n",
      "TAX CLASS AT PRESENT              30236 non-null category\n",
      "BLOCK                             30236 non-null int64\n",
      "LOT                               30236 non-null int64\n",
      "BUILDING CLASS AT PRESENT         30236 non-null category\n",
      "ADDRESS                           30236 non-null object\n",
      "ZIP CODE                          30236 non-null category\n",
      "RESIDENTIAL UNITS                 30236 non-null int64\n",
      "COMMERCIAL UNITS                  30236 non-null int64\n",
      "TOTAL UNITS                       30236 non-null int64\n",
      "LAND SQUARE FEET                  30236 non-null float64\n",
      "GROSS SQUARE FEET                 30236 non-null float64\n",
      "YEAR BUILT                        30236 non-null category\n",
      "TAX CLASS AT TIME OF SALE         30236 non-null category\n",
      "BUILDING CLASS AT TIME OF SALE    30236 non-null category\n",
      "SALE PRICE                        30236 non-null float64\n",
      "SALE DATE                         30236 non-null datetime64[ns]\n",
      "sale_year                         30236 non-null category\n",
      "sale_month                        30236 non-null category\n",
      "dtypes: category(11), datetime64[ns](1), float64(3), int64(5), object(1)\n",
      "memory usage: 3.0+ MB\n"
     ]
    }
   ],
   "source": [
    "df4.info()"
   ]
  },
  {
   "cell_type": "code",
   "execution_count": 39,
   "metadata": {},
   "outputs": [],
   "source": [
    "df4.drop(['BLOCK','LOT','ADDRESS'], axis=1, inplace=True)"
   ]
  },
  {
   "cell_type": "code",
   "execution_count": 40,
   "metadata": {},
   "outputs": [
    {
     "data": {
      "text/html": [
       "<div>\n",
       "<style scoped>\n",
       "    .dataframe tbody tr th:only-of-type {\n",
       "        vertical-align: middle;\n",
       "    }\n",
       "\n",
       "    .dataframe tbody tr th {\n",
       "        vertical-align: top;\n",
       "    }\n",
       "\n",
       "    .dataframe thead th {\n",
       "        text-align: right;\n",
       "    }\n",
       "</style>\n",
       "<table border=\"1\" class=\"dataframe\">\n",
       "  <thead>\n",
       "    <tr style=\"text-align: right;\">\n",
       "      <th></th>\n",
       "      <th>BOROUGH</th>\n",
       "      <th>NEIGHBORHOOD</th>\n",
       "      <th>BUILDING CLASS CATEGORY</th>\n",
       "      <th>TAX CLASS AT PRESENT</th>\n",
       "      <th>BUILDING CLASS AT PRESENT</th>\n",
       "      <th>ZIP CODE</th>\n",
       "      <th>RESIDENTIAL UNITS</th>\n",
       "      <th>COMMERCIAL UNITS</th>\n",
       "      <th>TOTAL UNITS</th>\n",
       "      <th>LAND SQUARE FEET</th>\n",
       "      <th>GROSS SQUARE FEET</th>\n",
       "      <th>YEAR BUILT</th>\n",
       "      <th>TAX CLASS AT TIME OF SALE</th>\n",
       "      <th>BUILDING CLASS AT TIME OF SALE</th>\n",
       "      <th>SALE PRICE</th>\n",
       "      <th>SALE DATE</th>\n",
       "      <th>sale_year</th>\n",
       "      <th>sale_month</th>\n",
       "    </tr>\n",
       "  </thead>\n",
       "  <tbody>\n",
       "    <tr>\n",
       "      <th>3</th>\n",
       "      <td>Manhattan</td>\n",
       "      <td>ALPHABET CITY</td>\n",
       "      <td>07 RENTALS - WALKUP APARTMENTS</td>\n",
       "      <td>2B</td>\n",
       "      <td>C4</td>\n",
       "      <td>10009</td>\n",
       "      <td>10</td>\n",
       "      <td>0</td>\n",
       "      <td>10</td>\n",
       "      <td>2272.0</td>\n",
       "      <td>6794.0</td>\n",
       "      <td>1913</td>\n",
       "      <td>2</td>\n",
       "      <td>C4</td>\n",
       "      <td>3936272.0</td>\n",
       "      <td>2016-09-23</td>\n",
       "      <td>2016</td>\n",
       "      <td>9</td>\n",
       "    </tr>\n",
       "    <tr>\n",
       "      <th>6</th>\n",
       "      <td>Manhattan</td>\n",
       "      <td>ALPHABET CITY</td>\n",
       "      <td>07 RENTALS - WALKUP APARTMENTS</td>\n",
       "      <td>2B</td>\n",
       "      <td>C4</td>\n",
       "      <td>10009</td>\n",
       "      <td>8</td>\n",
       "      <td>0</td>\n",
       "      <td>8</td>\n",
       "      <td>1750.0</td>\n",
       "      <td>4226.0</td>\n",
       "      <td>1920</td>\n",
       "      <td>2</td>\n",
       "      <td>C4</td>\n",
       "      <td>3192840.0</td>\n",
       "      <td>2016-09-23</td>\n",
       "      <td>2016</td>\n",
       "      <td>9</td>\n",
       "    </tr>\n",
       "    <tr>\n",
       "      <th>172</th>\n",
       "      <td>Manhattan</td>\n",
       "      <td>ALPHABET CITY</td>\n",
       "      <td>14 RENTALS - 4-10 UNIT</td>\n",
       "      <td>2A</td>\n",
       "      <td>S3</td>\n",
       "      <td>10009</td>\n",
       "      <td>3</td>\n",
       "      <td>1</td>\n",
       "      <td>4</td>\n",
       "      <td>1520.0</td>\n",
       "      <td>3360.0</td>\n",
       "      <td>1910</td>\n",
       "      <td>2</td>\n",
       "      <td>S3</td>\n",
       "      <td>3300000.0</td>\n",
       "      <td>2016-11-15</td>\n",
       "      <td>2016</td>\n",
       "      <td>11</td>\n",
       "    </tr>\n",
       "    <tr>\n",
       "      <th>195</th>\n",
       "      <td>Manhattan</td>\n",
       "      <td>ALPHABET CITY</td>\n",
       "      <td>22 STORE BUILDINGS</td>\n",
       "      <td>4</td>\n",
       "      <td>K4</td>\n",
       "      <td>10009</td>\n",
       "      <td>0</td>\n",
       "      <td>1</td>\n",
       "      <td>1</td>\n",
       "      <td>1218.0</td>\n",
       "      <td>3586.0</td>\n",
       "      <td>1899</td>\n",
       "      <td>4</td>\n",
       "      <td>K4</td>\n",
       "      <td>3700000.0</td>\n",
       "      <td>2016-09-28</td>\n",
       "      <td>2016</td>\n",
       "      <td>9</td>\n",
       "    </tr>\n",
       "    <tr>\n",
       "      <th>222</th>\n",
       "      <td>Manhattan</td>\n",
       "      <td>CHELSEA</td>\n",
       "      <td>07 RENTALS - WALKUP APARTMENTS</td>\n",
       "      <td>2B</td>\n",
       "      <td>C4</td>\n",
       "      <td>10011</td>\n",
       "      <td>9</td>\n",
       "      <td>0</td>\n",
       "      <td>9</td>\n",
       "      <td>1566.0</td>\n",
       "      <td>6330.0</td>\n",
       "      <td>1901</td>\n",
       "      <td>2</td>\n",
       "      <td>C4</td>\n",
       "      <td>1583840.0</td>\n",
       "      <td>2017-08-31</td>\n",
       "      <td>2017</td>\n",
       "      <td>8</td>\n",
       "    </tr>\n",
       "  </tbody>\n",
       "</table>\n",
       "</div>"
      ],
      "text/plain": [
       "       BOROUGH   NEIGHBORHOOD                      BUILDING CLASS CATEGORY  \\\n",
       "3    Manhattan  ALPHABET CITY  07 RENTALS - WALKUP APARTMENTS                \n",
       "6    Manhattan  ALPHABET CITY  07 RENTALS - WALKUP APARTMENTS                \n",
       "172  Manhattan  ALPHABET CITY  14 RENTALS - 4-10 UNIT                        \n",
       "195  Manhattan  ALPHABET CITY  22 STORE BUILDINGS                            \n",
       "222  Manhattan        CHELSEA  07 RENTALS - WALKUP APARTMENTS                \n",
       "\n",
       "    TAX CLASS AT PRESENT BUILDING CLASS AT PRESENT ZIP CODE  \\\n",
       "3                     2B                        C4    10009   \n",
       "6                     2B                        C4    10009   \n",
       "172                   2A                        S3    10009   \n",
       "195                    4                        K4    10009   \n",
       "222                   2B                        C4    10011   \n",
       "\n",
       "     RESIDENTIAL UNITS  COMMERCIAL UNITS  TOTAL UNITS  LAND SQUARE FEET  \\\n",
       "3                   10                 0           10            2272.0   \n",
       "6                    8                 0            8            1750.0   \n",
       "172                  3                 1            4            1520.0   \n",
       "195                  0                 1            1            1218.0   \n",
       "222                  9                 0            9            1566.0   \n",
       "\n",
       "     GROSS SQUARE FEET YEAR BUILT TAX CLASS AT TIME OF SALE  \\\n",
       "3               6794.0       1913                         2   \n",
       "6               4226.0       1920                         2   \n",
       "172             3360.0       1910                         2   \n",
       "195             3586.0       1899                         4   \n",
       "222             6330.0       1901                         2   \n",
       "\n",
       "    BUILDING CLASS AT TIME OF SALE  SALE PRICE  SALE DATE sale_year sale_month  \n",
       "3                               C4   3936272.0 2016-09-23      2016          9  \n",
       "6                               C4   3192840.0 2016-09-23      2016          9  \n",
       "172                             S3   3300000.0 2016-11-15      2016         11  \n",
       "195                             K4   3700000.0 2016-09-28      2016          9  \n",
       "222                             C4   1583840.0 2017-08-31      2017          8  "
      ]
     },
     "execution_count": 40,
     "metadata": {},
     "output_type": "execute_result"
    }
   ],
   "source": [
    "#'1':'Manhattan', '2':'Bronx', '3': 'Brooklyn', '4':'Queens','5':'Staten Island'\n",
    "df4['BOROUGH']= df4['BOROUGH'].map({1:'Manhattan', 2:'Bronx', 3: 'Brooklyn', 4:'Queens',5:'Staten Island'})\n",
    "df4.head()"
   ]
  },
  {
   "cell_type": "markdown",
   "metadata": {},
   "source": [
    "## Some other plots!"
   ]
  },
  {
   "cell_type": "code",
   "execution_count": 41,
   "metadata": {},
   "outputs": [
    {
     "data": {
      "text/html": [
       "<div>\n",
       "<style scoped>\n",
       "    .dataframe tbody tr th:only-of-type {\n",
       "        vertical-align: middle;\n",
       "    }\n",
       "\n",
       "    .dataframe tbody tr th {\n",
       "        vertical-align: top;\n",
       "    }\n",
       "\n",
       "    .dataframe thead th {\n",
       "        text-align: right;\n",
       "    }\n",
       "</style>\n",
       "<table border=\"1\" class=\"dataframe\">\n",
       "  <thead>\n",
       "    <tr style=\"text-align: right;\">\n",
       "      <th></th>\n",
       "      <th>BOROUGH</th>\n",
       "      <th>SALE PRICE</th>\n",
       "    </tr>\n",
       "  </thead>\n",
       "  <tbody>\n",
       "    <tr>\n",
       "      <th>0</th>\n",
       "      <td>Staten Island</td>\n",
       "      <td>5.257797e+05</td>\n",
       "    </tr>\n",
       "    <tr>\n",
       "      <th>1</th>\n",
       "      <td>Bronx</td>\n",
       "      <td>5.581147e+05</td>\n",
       "    </tr>\n",
       "    <tr>\n",
       "      <th>2</th>\n",
       "      <td>Queens</td>\n",
       "      <td>7.079732e+05</td>\n",
       "    </tr>\n",
       "    <tr>\n",
       "      <th>3</th>\n",
       "      <td>Brooklyn</td>\n",
       "      <td>1.039752e+06</td>\n",
       "    </tr>\n",
       "    <tr>\n",
       "      <th>4</th>\n",
       "      <td>Manhattan</td>\n",
       "      <td>1.846523e+06</td>\n",
       "    </tr>\n",
       "  </tbody>\n",
       "</table>\n",
       "</div>"
      ],
      "text/plain": [
       "         BOROUGH    SALE PRICE\n",
       "0  Staten Island  5.257797e+05\n",
       "1          Bronx  5.581147e+05\n",
       "2         Queens  7.079732e+05\n",
       "3       Brooklyn  1.039752e+06\n",
       "4      Manhattan  1.846523e+06"
      ]
     },
     "execution_count": 41,
     "metadata": {},
     "output_type": "execute_result"
    }
   ],
   "source": [
    "df_bar =df4[['BOROUGH', 'SALE PRICE']].groupby(by='BOROUGH').mean().sort_values(by='SALE PRICE', ascending=True).reset_index()\n",
    "df_bar"
   ]
  },
  {
   "cell_type": "code",
   "execution_count": 42,
   "metadata": {},
   "outputs": [
    {
     "data": {
      "image/png": "[encoded data removed]",
      "text/plain": [
       "<Figure size 864x432 with 1 Axes>"
      ]
     },
     "metadata": {
      "needs_background": "light"
     },
     "output_type": "display_data"
    }
   ],
   "source": [
    "plt.figure(figsize=(12,6))\n",
    "sns.barplot(y = 'BOROUGH', x = 'SALE PRICE', data = df_bar )\n",
    "plt.title('Average SALE PRICE on each BOROUGH')\n",
    "plt.show()"
   ]
  },
  {
   "cell_type": "code",
   "execution_count": 43,
   "metadata": {},
   "outputs": [
    {
     "data": {
      "image/png": "[encoded data removed]",
      "text/plain": [
       "<Figure size 864x432 with 1 Axes>"
      ]
     },
     "metadata": {
      "needs_background": "light"
     },
     "output_type": "display_data"
    }
   ],
   "source": [
    "plt.figure(figsize=(12,6))\n",
    "sns.boxplot(y = 'BOROUGH', x = 'SALE PRICE', data = df4 )\n",
    "plt.title('Box plots for SALE PRICE on each BOROUGH')\n",
    "plt.show()"
   ]
  },
  {
   "cell_type": "code",
   "execution_count": 44,
   "metadata": {},
   "outputs": [
    {
     "data": {
      "text/html": [
       "<div>\n",
       "<style scoped>\n",
       "    .dataframe tbody tr th:only-of-type {\n",
       "        vertical-align: middle;\n",
       "    }\n",
       "\n",
       "    .dataframe tbody tr th {\n",
       "        vertical-align: top;\n",
       "    }\n",
       "\n",
       "    .dataframe thead th {\n",
       "        text-align: right;\n",
       "    }\n",
       "</style>\n",
       "<table border=\"1\" class=\"dataframe\">\n",
       "  <thead>\n",
       "    <tr style=\"text-align: right;\">\n",
       "      <th></th>\n",
       "      <th>sale_month</th>\n",
       "      <th>Sales_count</th>\n",
       "    </tr>\n",
       "  </thead>\n",
       "  <tbody>\n",
       "    <tr>\n",
       "      <th>0</th>\n",
       "      <td>1</td>\n",
       "      <td>2432</td>\n",
       "    </tr>\n",
       "    <tr>\n",
       "      <th>1</th>\n",
       "      <td>2</td>\n",
       "      <td>2323</td>\n",
       "    </tr>\n",
       "    <tr>\n",
       "      <th>2</th>\n",
       "      <td>3</td>\n",
       "      <td>2782</td>\n",
       "    </tr>\n",
       "    <tr>\n",
       "      <th>3</th>\n",
       "      <td>4</td>\n",
       "      <td>2344</td>\n",
       "    </tr>\n",
       "    <tr>\n",
       "      <th>4</th>\n",
       "      <td>5</td>\n",
       "      <td>2565</td>\n",
       "    </tr>\n",
       "    <tr>\n",
       "      <th>5</th>\n",
       "      <td>6</td>\n",
       "      <td>2931</td>\n",
       "    </tr>\n",
       "    <tr>\n",
       "      <th>6</th>\n",
       "      <td>7</td>\n",
       "      <td>2328</td>\n",
       "    </tr>\n",
       "    <tr>\n",
       "      <th>7</th>\n",
       "      <td>8</td>\n",
       "      <td>1937</td>\n",
       "    </tr>\n",
       "    <tr>\n",
       "      <th>8</th>\n",
       "      <td>9</td>\n",
       "      <td>2807</td>\n",
       "    </tr>\n",
       "    <tr>\n",
       "      <th>9</th>\n",
       "      <td>10</td>\n",
       "      <td>2373</td>\n",
       "    </tr>\n",
       "    <tr>\n",
       "      <th>10</th>\n",
       "      <td>11</td>\n",
       "      <td>2545</td>\n",
       "    </tr>\n",
       "    <tr>\n",
       "      <th>11</th>\n",
       "      <td>12</td>\n",
       "      <td>2869</td>\n",
       "    </tr>\n",
       "  </tbody>\n",
       "</table>\n",
       "</div>"
      ],
      "text/plain": [
       "   sale_month  Sales_count\n",
       "0           1         2432\n",
       "1           2         2323\n",
       "2           3         2782\n",
       "3           4         2344\n",
       "4           5         2565\n",
       "5           6         2931\n",
       "6           7         2328\n",
       "7           8         1937\n",
       "8           9         2807\n",
       "9          10         2373\n",
       "10         11         2545\n",
       "11         12         2869"
      ]
     },
     "execution_count": 44,
     "metadata": {},
     "output_type": "execute_result"
    }
   ],
   "source": [
    "df_bar=df4[['sale_month', 'SALE PRICE']].groupby(by='sale_month').count().sort_values(by='sale_month', ascending=True).reset_index()\n",
    "df_bar.columns.values[1]='Sales_count'\n",
    "df_bar"
   ]
  },
  {
   "cell_type": "code",
   "execution_count": null,
   "metadata": {},
   "outputs": [],
   "source": []
  },
  {
   "cell_type": "code",
   "execution_count": 45,
   "metadata": {},
   "outputs": [
    {
     "data": {
      "image/png": "[encoded data removed]",
      "text/plain": [
       "<Figure size 864x432 with 1 Axes>"
      ]
     },
     "metadata": {
      "needs_background": "light"
     },
     "output_type": "display_data"
    }
   ],
   "source": [
    "plt.figure(figsize=(12,6))\n",
    "sns.barplot(y = 'sale_month', x = 'Sales_count', data = df_bar )\n",
    "plt.title('count SALEs by each month')\n",
    "plt.show()"
   ]
  },
  {
   "cell_type": "markdown",
   "metadata": {},
   "source": [
    "### Saving the final data set"
   ]
  },
  {
   "cell_type": "code",
   "execution_count": 46,
   "metadata": {},
   "outputs": [],
   "source": [
    "df4.to_csv('nyc-rolling-sales_clean.csv',index=False)  "
   ]
  }
 ],
 "metadata": {
  "kernelspec": {
   "display_name": "Python 3",
   "language": "python",
   "name": "python3"
  },
  "language_info": {
   "codemirror_mode": {
    "name": "ipython",
    "version": 3
   },
   "file_extension": ".py",
   "mimetype": "text/x-python",
   "name": "python",
   "nbconvert_exporter": "python",
   "pygments_lexer": "ipython3",
   "version": "3.7.3"
  }
 },
 "nbformat": 4,
 "nbformat_minor": 4
}
